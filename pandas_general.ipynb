{
 "cells": [
  {
   "metadata": {},
   "cell_type": "markdown",
   "source": [
    "#### Считывание csv\n",
    "- encoding - кодировка ('utf-8', 'ISO-8859-1', 'Windows-1251' и др)\n",
    "- sep - разделитель (по умолчанию ',')\n",
    "- compression - метод сжатия для архивов\n",
    "- parse_dates - стоит ли воспринимать даты как даты (по-умолчанию pandas воспринимает как строки).\\n\n",
    "    parse_dates = True - в дату переводится первая колонка или можно указать массив колонок\n",
    "\n"
   ],
   "id": "b2ae69fb61635156"
  },
  {
   "metadata": {
    "ExecuteTime": {
     "end_time": "2025-04-14T17:57:30.515172Z",
     "start_time": "2025-04-14T17:57:29.877276Z"
    }
   },
   "cell_type": "code",
   "source": [
    "import pandas as pd\n",
    "data  = pd.read_csv('data/6_data.zip', compression='zip', encoding='ISO-8859-1')"
   ],
   "id": "d7b1e188f4660aea",
   "outputs": [],
   "execution_count": 1
  },
  {
   "metadata": {},
   "cell_type": "markdown",
   "source": [
    "####  Первоначальные характеристики датафрейма\n",
    "- df.**shape** - размерность датафрема (row, column)\n",
    "- df.**head(n)** - первые n строчек из датафрейма (default=5)\n",
    "- df.**tail(n)** - последние n строчек из датафрейма (default=5)\n",
    "- df.**dtypes** - типы данных в столбцах датафрейма\n",
    "- df.**[имя колонки].dtype** - тип значений в конкретной колонке\n",
    "- df.**describe()** - рассчитывает базовые метрики для таблицы\n",
    "- df.**info** - информация о датафрейме (\n",
    "- df.**columns** - список колонок\n",
    "- df.**index** - список индексов\n",
    "- df[['column1', ''column2', 'column3']] - взять определенные столбцы из df"
   ],
   "id": "ba16b5c4d94c5871"
  },
  {
   "metadata": {
    "ExecuteTime": {
     "end_time": "2025-04-14T18:01:06.814988Z",
     "start_time": "2025-04-14T18:01:06.798085Z"
    }
   },
   "cell_type": "code",
   "source": [
    "data.shape # число строк и столбцов в датафрейме\n",
    "data.head()"
   ],
   "id": "a0dff809d524b7d0",
   "outputs": [
    {
     "data": {
      "text/plain": [
       "  InvoiceNo StockCode                          Description  Quantity  \\\n",
       "0    536365    85123A   WHITE HANGING HEART T-LIGHT HOLDER         6   \n",
       "1    536365     71053                  WHITE METAL LANTERN         6   \n",
       "2    536365    84406B       CREAM CUPID HEARTS COAT HANGER         8   \n",
       "3    536365    84029G  KNITTED UNION FLAG HOT WATER BOTTLE         6   \n",
       "4    536365    84029E       RED WOOLLY HOTTIE WHITE HEART.         6   \n",
       "\n",
       "      InvoiceDate  UnitPrice  CustomerID         Country  \n",
       "0  12/1/2010 8:26       2.55     17850.0  United Kingdom  \n",
       "1  12/1/2010 8:26       3.39     17850.0  United Kingdom  \n",
       "2  12/1/2010 8:26       2.75     17850.0  United Kingdom  \n",
       "3  12/1/2010 8:26       3.39     17850.0  United Kingdom  \n",
       "4  12/1/2010 8:26       3.39     17850.0  United Kingdom  "
      ],
      "text/html": [
       "<div>\n",
       "<style scoped>\n",
       "    .dataframe tbody tr th:only-of-type {\n",
       "        vertical-align: middle;\n",
       "    }\n",
       "\n",
       "    .dataframe tbody tr th {\n",
       "        vertical-align: top;\n",
       "    }\n",
       "\n",
       "    .dataframe thead th {\n",
       "        text-align: right;\n",
       "    }\n",
       "</style>\n",
       "<table border=\"1\" class=\"dataframe\">\n",
       "  <thead>\n",
       "    <tr style=\"text-align: right;\">\n",
       "      <th></th>\n",
       "      <th>InvoiceNo</th>\n",
       "      <th>StockCode</th>\n",
       "      <th>Description</th>\n",
       "      <th>Quantity</th>\n",
       "      <th>InvoiceDate</th>\n",
       "      <th>UnitPrice</th>\n",
       "      <th>CustomerID</th>\n",
       "      <th>Country</th>\n",
       "    </tr>\n",
       "  </thead>\n",
       "  <tbody>\n",
       "    <tr>\n",
       "      <th>0</th>\n",
       "      <td>536365</td>\n",
       "      <td>85123A</td>\n",
       "      <td>WHITE HANGING HEART T-LIGHT HOLDER</td>\n",
       "      <td>6</td>\n",
       "      <td>12/1/2010 8:26</td>\n",
       "      <td>2.55</td>\n",
       "      <td>17850.0</td>\n",
       "      <td>United Kingdom</td>\n",
       "    </tr>\n",
       "    <tr>\n",
       "      <th>1</th>\n",
       "      <td>536365</td>\n",
       "      <td>71053</td>\n",
       "      <td>WHITE METAL LANTERN</td>\n",
       "      <td>6</td>\n",
       "      <td>12/1/2010 8:26</td>\n",
       "      <td>3.39</td>\n",
       "      <td>17850.0</td>\n",
       "      <td>United Kingdom</td>\n",
       "    </tr>\n",
       "    <tr>\n",
       "      <th>2</th>\n",
       "      <td>536365</td>\n",
       "      <td>84406B</td>\n",
       "      <td>CREAM CUPID HEARTS COAT HANGER</td>\n",
       "      <td>8</td>\n",
       "      <td>12/1/2010 8:26</td>\n",
       "      <td>2.75</td>\n",
       "      <td>17850.0</td>\n",
       "      <td>United Kingdom</td>\n",
       "    </tr>\n",
       "    <tr>\n",
       "      <th>3</th>\n",
       "      <td>536365</td>\n",
       "      <td>84029G</td>\n",
       "      <td>KNITTED UNION FLAG HOT WATER BOTTLE</td>\n",
       "      <td>6</td>\n",
       "      <td>12/1/2010 8:26</td>\n",
       "      <td>3.39</td>\n",
       "      <td>17850.0</td>\n",
       "      <td>United Kingdom</td>\n",
       "    </tr>\n",
       "    <tr>\n",
       "      <th>4</th>\n",
       "      <td>536365</td>\n",
       "      <td>84029E</td>\n",
       "      <td>RED WOOLLY HOTTIE WHITE HEART.</td>\n",
       "      <td>6</td>\n",
       "      <td>12/1/2010 8:26</td>\n",
       "      <td>3.39</td>\n",
       "      <td>17850.0</td>\n",
       "      <td>United Kingdom</td>\n",
       "    </tr>\n",
       "  </tbody>\n",
       "</table>\n",
       "</div>"
      ]
     },
     "execution_count": 2,
     "metadata": {},
     "output_type": "execute_result"
    }
   ],
   "execution_count": 2
  },
  {
   "metadata": {},
   "cell_type": "markdown",
   "source": [
    "#### Проверить типы данных в столбцах датафрейма и определить, какой тип данных преобладает\n",
    "1) Атрибут **dtypes**. Он возвращает серию, индексами которой являются названия столбцов, а значениями — тип данных в этих столбцах. Потом пробежаться глазами и посмотреть самый частый тип\n",
    "2) Применить к датафрейму метод **info()**, который выводит подробную информацию о датафрейме и его колонках. Смотрим на последнюю строчку, там будет инфа о всех типах, например,\n",
    "dtypes: float64(2), int64(1), object(5)"
   ],
   "id": "1051ec075b94284a"
  },
  {
   "metadata": {
    "ExecuteTime": {
     "end_time": "2025-04-14T18:01:39.582047Z",
     "start_time": "2025-04-14T18:01:39.575641Z"
    }
   },
   "cell_type": "code",
   "source": "data.dtypes",
   "id": "aaa637152a94732",
   "outputs": [
    {
     "data": {
      "text/plain": [
       "InvoiceNo       object\n",
       "StockCode       object\n",
       "Description     object\n",
       "Quantity         int64\n",
       "InvoiceDate     object\n",
       "UnitPrice      float64\n",
       "CustomerID     float64\n",
       "Country         object\n",
       "dtype: object"
      ]
     },
     "execution_count": 3,
     "metadata": {},
     "output_type": "execute_result"
    }
   ],
   "execution_count": 3
  },
  {
   "metadata": {
    "ExecuteTime": {
     "end_time": "2025-04-14T18:01:40.935211Z",
     "start_time": "2025-04-14T18:01:40.865769Z"
    }
   },
   "cell_type": "code",
   "source": "data.info()",
   "id": "9a2347f417ac5efe",
   "outputs": [
    {
     "name": "stdout",
     "output_type": "stream",
     "text": [
      "<class 'pandas.core.frame.DataFrame'>\n",
      "RangeIndex: 541909 entries, 0 to 541908\n",
      "Data columns (total 8 columns):\n",
      " #   Column       Non-Null Count   Dtype  \n",
      "---  ------       --------------   -----  \n",
      " 0   InvoiceNo    541909 non-null  object \n",
      " 1   StockCode    541909 non-null  object \n",
      " 2   Description  540455 non-null  object \n",
      " 3   Quantity     541909 non-null  int64  \n",
      " 4   InvoiceDate  541909 non-null  object \n",
      " 5   UnitPrice    541909 non-null  float64\n",
      " 6   CustomerID   406829 non-null  float64\n",
      " 7   Country      541909 non-null  object \n",
      "dtypes: float64(2), int64(1), object(5)\n",
      "memory usage: 33.1+ MB\n"
     ]
    }
   ],
   "execution_count": 4
  },
  {
   "metadata": {},
   "cell_type": "markdown",
   "source": [
    "#### Переименование колонок\n",
    "Для переименования колонок передайте в метод `rename()` в параметр `columns` словарь, где ключами являются старые названия колонок, а значениями — новые названия."
   ],
   "id": "dbf81fdbdd62fe78"
  },
  {
   "metadata": {},
   "cell_type": "code",
   "outputs": [],
   "execution_count": null,
   "source": [
    "data = data.rename(columns={'old_name': 'new_name'})\n",
    "#data.columns"
   ],
   "id": "af81ea233e468fef"
  },
  {
   "metadata": {},
   "cell_type": "markdown",
   "source": [
    "#### Разные методы работы со столбцами\n",
    "- df.column.**value_counts()** - число записей по каждому значению для колонки. По умолчанию в порядке убывания (**ascending=False**)\n",
    "- df.column.**sum()** - сумма всех значений в столбце\n",
    "- df.**sort_values('column', ascending=False)** - сортировка строк по значению в колонке column"
   ],
   "id": "3532d52c2a66318f"
  },
  {
   "metadata": {
    "ExecuteTime": {
     "end_time": "2025-04-14T18:12:50.348998Z",
     "start_time": "2025-04-14T18:12:50.311845Z"
    }
   },
   "cell_type": "code",
   "source": "data.Country.value_counts().head()",
   "id": "477fe172d3bdb6f0",
   "outputs": [
    {
     "data": {
      "text/plain": [
       "Country\n",
       "United Kingdom    495478\n",
       "Germany             9495\n",
       "France              8557\n",
       "EIRE                8196\n",
       "Spain               2533\n",
       "Name: count, dtype: int64"
      ]
     },
     "execution_count": 23,
     "metadata": {},
     "output_type": "execute_result"
    }
   ],
   "execution_count": 23
  },
  {
   "metadata": {},
   "cell_type": "markdown",
   "source": [
    "#### Группировка и агрегация данных\n",
    "Для агрегации используется метод **agg**, обычно его используют сразу после группировки через **groupby**.\n",
    "В результате агрерации из массива значений (колонка) получается одно значение на каждую агрегирующую функцию.\n",
    "1) Если использовать перадачу в **agg** значений через словарь, то результат будет **датафреймом**.\n",
    "Словарь вида\n",
    "```[колонка для группировки]: функция, которую применяем к значениям этой колонки```\n",
    "\n",
    "**groupby**('column', **as_index = False**) - позволяет не делать колонку индексом в датафрейме после группировки."
   ],
   "id": "2b22d1137e7de7ad"
  },
  {
   "metadata": {
    "ExecuteTime": {
     "end_time": "2025-04-14T18:11:03.027462Z",
     "start_time": "2025-04-14T18:11:02.979538Z"
    }
   },
   "cell_type": "code",
   "source": "data.groupby('Country').agg({'InvoiceNo': 'count'}).head(3)  #количество заказов, сгруппированных по стране",
   "id": "ba0caea6331673c8",
   "outputs": [
    {
     "data": {
      "text/plain": [
       "           InvoiceNo\n",
       "Country             \n",
       "Australia       1259\n",
       "Austria          401\n",
       "Bahrain           19"
      ],
      "text/html": [
       "<div>\n",
       "<style scoped>\n",
       "    .dataframe tbody tr th:only-of-type {\n",
       "        vertical-align: middle;\n",
       "    }\n",
       "\n",
       "    .dataframe tbody tr th {\n",
       "        vertical-align: top;\n",
       "    }\n",
       "\n",
       "    .dataframe thead th {\n",
       "        text-align: right;\n",
       "    }\n",
       "</style>\n",
       "<table border=\"1\" class=\"dataframe\">\n",
       "  <thead>\n",
       "    <tr style=\"text-align: right;\">\n",
       "      <th></th>\n",
       "      <th>InvoiceNo</th>\n",
       "    </tr>\n",
       "    <tr>\n",
       "      <th>Country</th>\n",
       "      <th></th>\n",
       "    </tr>\n",
       "  </thead>\n",
       "  <tbody>\n",
       "    <tr>\n",
       "      <th>Australia</th>\n",
       "      <td>1259</td>\n",
       "    </tr>\n",
       "    <tr>\n",
       "      <th>Austria</th>\n",
       "      <td>401</td>\n",
       "    </tr>\n",
       "    <tr>\n",
       "      <th>Bahrain</th>\n",
       "      <td>19</td>\n",
       "    </tr>\n",
       "  </tbody>\n",
       "</table>\n",
       "</div>"
      ]
     },
     "execution_count": 19,
     "metadata": {},
     "output_type": "execute_result"
    }
   ],
   "execution_count": 19
  },
  {
   "metadata": {},
   "cell_type": "markdown",
   "source": "2. Можно вызывать функцию-агрерат непосредственно на **колонке после группировки**. Тогда результат - **Series** (а-ля колонка в pandas)\n",
   "id": "d19a4bcbf15d1a7f"
  },
  {
   "metadata": {
    "ExecuteTime": {
     "end_time": "2025-04-14T18:10:58.119855Z",
     "start_time": "2025-04-14T18:10:58.068993Z"
    }
   },
   "cell_type": "code",
   "source": "data.groupby('Country').InvoiceNo.count().head(3)",
   "id": "b12477ccc084985b",
   "outputs": [
    {
     "data": {
      "text/plain": [
       "Country\n",
       "Australia    1259\n",
       "Austria       401\n",
       "Bahrain        19\n",
       "Name: InvoiceNo, dtype: int64"
      ]
     },
     "execution_count": 18,
     "metadata": {},
     "output_type": "execute_result"
    }
   ],
   "execution_count": 18
  },
  {
   "metadata": {},
   "cell_type": "markdown",
   "source": [
    "####  Поиск минимального и максимального значения\n",
    "- df.column.**idxmax()** - индекс максимального значения\n",
    "- df.column.**idxmin()** - индекс минимального значения\n",
    "- df.column.**min()** - минимальное значение\n",
    "- df.column.**max()** - максимальное значение"
   ],
   "id": "f69b9dd4b595a34d"
  },
  {
   "metadata": {
    "ExecuteTime": {
     "end_time": "2025-04-14T18:11:51.579535Z",
     "start_time": "2025-04-14T18:11:51.573940Z"
    }
   },
   "cell_type": "code",
   "source": "data.Quantity.max()",
   "id": "30c1f2b6d44b94a5",
   "outputs": [
    {
     "data": {
      "text/plain": [
       "80995"
      ]
     },
     "execution_count": 20,
     "metadata": {},
     "output_type": "execute_result"
    }
   ],
   "execution_count": 20
  },
  {
   "metadata": {
    "ExecuteTime": {
     "end_time": "2025-04-14T18:11:58.063579Z",
     "start_time": "2025-04-14T18:11:58.057958Z"
    }
   },
   "cell_type": "code",
   "source": "data.Quantity.idxmax()",
   "id": "9446c90091c3b907",
   "outputs": [
    {
     "data": {
      "text/plain": [
       "540421"
      ]
     },
     "execution_count": 21,
     "metadata": {},
     "output_type": "execute_result"
    }
   ],
   "execution_count": 21
  },
  {
   "metadata": {
    "ExecuteTime": {
     "end_time": "2025-04-14T18:12:05.538419Z",
     "start_time": "2025-04-14T18:12:05.533128Z"
    }
   },
   "cell_type": "code",
   "source": "data.index",
   "id": "5bec5a817df21623",
   "outputs": [
    {
     "data": {
      "text/plain": [
       "RangeIndex(start=0, stop=541909, step=1)"
      ]
     },
     "execution_count": 22,
     "metadata": {},
     "output_type": "execute_result"
    }
   ],
   "execution_count": 22
  },
  {
   "metadata": {},
   "cell_type": "markdown",
   "source": [
    "#### Фильтрация\n",
    "Есть 2 способа:\n",
    "1) df.**query**(\"условие\")\n",
    "логическое И: and или &\n",
    "логическое ИЛИ: or или |\n",
    "названия колонок  - без кавычек, строковые значения - в кавычках. Если нужно сравнить значение с переменной, то  **@** перед переменной\n",
    "2) Метод df.**loc** - в широком смысле дает доступ к группе строк и столбцов по меткам или логическому массиву.\n",
    "https://pandas.pydata.org/docs/reference/api/pandas.DataFrame.loc.html  - получше разобраться\n"
   ],
   "id": "563e7c799208e49b"
  },
  {
   "metadata": {
    "ExecuteTime": {
     "end_time": "2025-04-14T18:13:21.243628Z",
     "start_time": "2025-04-14T18:13:21.192913Z"
    }
   },
   "cell_type": "code",
   "source": [
    "country = \"Germany\"\n",
    "data_by_query = data.query(\"Country == @country & Quantity > 500\")\n",
    "data_by_loc = data.loc[(data.Country == country) & (data.Quantity > 500)]\n",
    "data_by_loc"
   ],
   "id": "f444e05e18f1e94f",
   "outputs": [
    {
     "data": {
      "text/plain": [
       "       InvoiceNo StockCode                Description  Quantity  \\\n",
       "187574    552978     15036  ASSORTED COLOURS SILK FAN       600   \n",
       "\n",
       "            InvoiceDate  UnitPrice  CustomerID  Country  \n",
       "187574  5/12/2011 14:46       0.65     12590.0  Germany  "
      ],
      "text/html": [
       "<div>\n",
       "<style scoped>\n",
       "    .dataframe tbody tr th:only-of-type {\n",
       "        vertical-align: middle;\n",
       "    }\n",
       "\n",
       "    .dataframe tbody tr th {\n",
       "        vertical-align: top;\n",
       "    }\n",
       "\n",
       "    .dataframe thead th {\n",
       "        text-align: right;\n",
       "    }\n",
       "</style>\n",
       "<table border=\"1\" class=\"dataframe\">\n",
       "  <thead>\n",
       "    <tr style=\"text-align: right;\">\n",
       "      <th></th>\n",
       "      <th>InvoiceNo</th>\n",
       "      <th>StockCode</th>\n",
       "      <th>Description</th>\n",
       "      <th>Quantity</th>\n",
       "      <th>InvoiceDate</th>\n",
       "      <th>UnitPrice</th>\n",
       "      <th>CustomerID</th>\n",
       "      <th>Country</th>\n",
       "    </tr>\n",
       "  </thead>\n",
       "  <tbody>\n",
       "    <tr>\n",
       "      <th>187574</th>\n",
       "      <td>552978</td>\n",
       "      <td>15036</td>\n",
       "      <td>ASSORTED COLOURS SILK FAN</td>\n",
       "      <td>600</td>\n",
       "      <td>5/12/2011 14:46</td>\n",
       "      <td>0.65</td>\n",
       "      <td>12590.0</td>\n",
       "      <td>Germany</td>\n",
       "    </tr>\n",
       "  </tbody>\n",
       "</table>\n",
       "</div>"
      ]
     },
     "execution_count": 24,
     "metadata": {},
     "output_type": "execute_result"
    }
   ],
   "execution_count": 24
  },
  {
   "metadata": {},
   "cell_type": "code",
   "outputs": [],
   "execution_count": null,
   "source": "",
   "id": "7d670ef6340b5813"
  }
 ],
 "metadata": {
  "kernelspec": {
   "display_name": "Python 3",
   "language": "python",
   "name": "python3"
  },
  "language_info": {
   "codemirror_mode": {
    "name": "ipython",
    "version": 2
   },
   "file_extension": ".py",
   "mimetype": "text/x-python",
   "name": "python",
   "nbconvert_exporter": "python",
   "pygments_lexer": "ipython2",
   "version": "2.7.6"
  }
 },
 "nbformat": 4,
 "nbformat_minor": 5
}
