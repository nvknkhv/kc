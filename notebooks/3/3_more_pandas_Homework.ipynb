{
 "cells": [
  {
   "cell_type": "markdown",
   "metadata": {
    "id": "Hw5XGVqDbq3X"
   },
   "source": [
    "# Проект урока 3. Ещё больше о Pandas.\n",
    "#  «Аналитика бронирования отелей»"
   ]
  },
  {
   "cell_type": "markdown",
   "metadata": {
    "id": "p7qBTzrZbq3c"
   },
   "source": [
    "## Шаг 1"
   ]
  },
  {
   "cell_type": "markdown",
   "metadata": {
    "id": "LLG1ILP2bq3d"
   },
   "source": [
    "В этом проекте вам предстоит почувствовать себя в роли аналитика данных в компании, владеющей сетью отелей, и проанализировать данные о бронированиях. Описание колонок:\n",
    "* Hotel – тип отеля (City Hotel или Resort Hotel)  \n",
    "* Is canceled – бронирование было отменено (1) или нет (0); не отмененное считается успешным\n",
    "* Lead time – количество дней, прошедших между датой бронирования и датой прибытия  \n",
    "* Arrival full date – полная дата прибытия\n",
    "* Arrival date year – год прибытия  \n",
    "* Arrival date month – месяц прибытия  \n",
    "* Arrival date week number – номер недели прибытия\n",
    "* Arrival date day of month – день прибытия\n",
    "* Stays in weekend nights – количество выходных (суббота или воскресенье), которые гость забронировал для проживания в отеле\n",
    "* Stays in week nights – количество дней (с понедельника по пятницу), которые гость забронировал для проживания в отеле\n",
    "* Stays total nights – общее число забронированных ночей (сумма двух предыдущих колонок)\n",
    "* Adults – число взрослых\n",
    "* Children – число детей\n",
    "* Babies – число младенцев\n",
    "* Meal – выбранный тип питания\n",
    "* Country – страна происхождения клиента\n",
    "* Reserved room type – тип зарезервированного номера\n",
    "* Assigned room type – тип полученного номера (может отличаться от забронированного)\n",
    "* Customer type – тип бронирования\n",
    "* Reservation status – значение последнего статуса брони: Canceled — было отменено клиентом; Check-Out — клиент зарегистрировался, но уже покинул отель; No-Show — клиент не зарегистрировался и сообщил администрации отеля причину\n",
    "* Reservation status date – дата обновления статуса\n",
    "\n",
    "В этом уроке вы закрепите навыки решения аналитических задач с помощью основных методов библиотеки pandas и попробуете новые методы."
   ]
  },
  {
   "cell_type": "markdown",
   "metadata": {
    "id": "Ww_OszBjbq3e"
   },
   "source": [
    "Вы можете решать задания тем способом, который считаете наиболее удобным или оптимальным. А для того, чтобы лучше понять задание, следуйте по шагам выполнения. Бывает, что их можно выполнить в одну строчку, применяя методы друг за другом. А если выполняете шаги отдельно, не забудьте сохранить результат в переменную, чтоьбы в следующем шаге работать именно с ней.\n",
    "\n",
    "В ноутбуке место для вашего решения обозначено комментарием `# Ваш код здесь`, но вы можете писать код там, где вам удобно, добавлять или удалять ячейки с кодом или текстом по вашему усмотрению.\n",
    "\n",
    "Напоминаем и о [памятке для новичков в программировании](https://buildin.ai/share/62b112ad-e20b-4b85-ab63-877077d1e9c3?code=2J58AF\n",
    ")! Очень многие проблемы, описанные в ней, часто встречаются именно в этом уроке, поэтому рекомендуем открыть её в отдельном окне и периодически с ней сверяться.  \n",
    "\n",
    "Кроме того можно посмотреть подсказки, кликнув на строчку `► Нажмите сюда, чтобы увидеть подсказку`. Также не забывайте о наличии конспектов и возможности задать вопрос в Discord, ссылка на нужный тред есть на странице каждого шага в LMS."
   ]
  },
  {
   "cell_type": "markdown",
   "metadata": {
    "id": "HVa-Z8_ibq3f"
   },
   "source": [
    "## Шаг 2"
   ]
  },
  {
   "cell_type": "markdown",
   "metadata": {
    "id": "0_Q6ktpPbq3g"
   },
   "source": [
    "Как обычно, в начале откройте датасет и посмотрите на данные. Для этого используйте библиотеку pandas, прочитайте датасет с разделителем `;`, сохраните его в переменную `bookings`. **Посмотрите, из какой страны было сделано бронирование в 19-й сверху строке** (обратите внимание, индекс у этой строки может быть не 19)"
   ]
  },
  {
   "cell_type": "markdown",
   "metadata": {
    "id": "Iynnxww-bq3g"
   },
   "source": [
    "Шаги выполнения:\n",
    "\n",
    "1. Импортируйте библиотеку pandas с общепринятым алиасом (псевдонимом) pd"
   ]
  },
  {
   "cell_type": "markdown",
   "metadata": {
    "id": "BD-ikxHbbq3h"
   },
   "source": [
    "<details>\n",
    "<summary>&#9658; Нажмите сюда, чтобы увидеть подсказку</summary>\n",
    "  <p>Для импорта библиотеки напишите:\n",
    "\n",
    "```python\n",
    "import library as shortcut\n",
    "```\n",
    "\n",
    "где вместо `library` подставьте название библиотеки (pandas), а вместо `shortcut` — его общераспространённое сокращённое название (pd)\n",
    "</p>\n",
    "</details>"
   ]
  },
  {
   "cell_type": "code",
   "execution_count": 1,
   "metadata": {
    "id": "2ISFQdhTbq3i"
   },
   "outputs": [],
   "source": [
    "import pandas as pd\n",
    "\n"
   ]
  },
  {
   "cell_type": "markdown",
   "metadata": {
    "id": "y54NiPn1bq3k"
   },
   "source": [
    "2. Загрузите csv файл к уроку в свою папку в JupyterНub\n",
    "\n",
    "3. Прочитайте этот датасет с разделителем `;`, результат сохранив в переменную `bookings`"
   ]
  },
  {
   "cell_type": "markdown",
   "metadata": {
    "id": "iBN8U19Pbq3k"
   },
   "source": [
    "<details>\n",
    "<summary>&#9658; Нажмите сюда, чтобы увидеть подсказку</summary>\n",
    "  <p>\n",
    "      \n",
    "Данные находятся в файле формата CSV. Для их загрузки воспользуемся функцией `pd.read_csv()`, передав в качестве аргумента путь к файлу и задав аргумент `sep`, определяющий разделитель. Например,\n",
    "```python\n",
    "df = pd.read_csv('data.csv', sep=',')\n",
    "```\n",
    "считает файл `data.csv`, хранящийся в той же папке, что и юпитер ноутбук, в котором вы сейчас работаете. Функция учтет, что разделителем в файле является запятая\n",
    "</p>\n",
    "</details>"
   ]
  },
  {
   "cell_type": "code",
   "execution_count": 3,
   "metadata": {
    "id": "j_a8Shi7bq3l",
    "scrolled": true
   },
   "outputs": [
    {
     "data": {
      "text/html": [
       "<div>\n",
       "<style scoped>\n",
       "    .dataframe tbody tr th:only-of-type {\n",
       "        vertical-align: middle;\n",
       "    }\n",
       "\n",
       "    .dataframe tbody tr th {\n",
       "        vertical-align: top;\n",
       "    }\n",
       "\n",
       "    .dataframe thead th {\n",
       "        text-align: right;\n",
       "    }\n",
       "</style>\n",
       "<table border=\"1\" class=\"dataframe\">\n",
       "  <thead>\n",
       "    <tr style=\"text-align: right;\">\n",
       "      <th></th>\n",
       "      <th>Hotel</th>\n",
       "      <th>Is Canceled</th>\n",
       "      <th>Lead Time</th>\n",
       "      <th>arrival full date</th>\n",
       "      <th>Arrival Date Year</th>\n",
       "      <th>Arrival Date Month</th>\n",
       "      <th>Arrival Date Week Number</th>\n",
       "      <th>Arrival Date Day of Month</th>\n",
       "      <th>Stays in Weekend nights</th>\n",
       "      <th>Stays in week nights</th>\n",
       "      <th>...</th>\n",
       "      <th>Adults</th>\n",
       "      <th>Children</th>\n",
       "      <th>Babies</th>\n",
       "      <th>Meal</th>\n",
       "      <th>Country</th>\n",
       "      <th>Reserved Room Type</th>\n",
       "      <th>Assigned room type</th>\n",
       "      <th>customer type</th>\n",
       "      <th>Reservation Status</th>\n",
       "      <th>Reservation status_date</th>\n",
       "    </tr>\n",
       "  </thead>\n",
       "  <tbody>\n",
       "    <tr>\n",
       "      <th>0</th>\n",
       "      <td>Resort Hotel</td>\n",
       "      <td>0</td>\n",
       "      <td>342</td>\n",
       "      <td>2015-07-01</td>\n",
       "      <td>2015</td>\n",
       "      <td>July</td>\n",
       "      <td>27</td>\n",
       "      <td>1</td>\n",
       "      <td>0</td>\n",
       "      <td>0</td>\n",
       "      <td>...</td>\n",
       "      <td>2</td>\n",
       "      <td>0.0</td>\n",
       "      <td>0</td>\n",
       "      <td>BB</td>\n",
       "      <td>PRT</td>\n",
       "      <td>C</td>\n",
       "      <td>C</td>\n",
       "      <td>Transient</td>\n",
       "      <td>Check-Out</td>\n",
       "      <td>2015-07-01</td>\n",
       "    </tr>\n",
       "    <tr>\n",
       "      <th>1</th>\n",
       "      <td>Resort Hotel</td>\n",
       "      <td>0</td>\n",
       "      <td>737</td>\n",
       "      <td>2015-07-01</td>\n",
       "      <td>2015</td>\n",
       "      <td>July</td>\n",
       "      <td>27</td>\n",
       "      <td>1</td>\n",
       "      <td>0</td>\n",
       "      <td>0</td>\n",
       "      <td>...</td>\n",
       "      <td>2</td>\n",
       "      <td>0.0</td>\n",
       "      <td>0</td>\n",
       "      <td>BB</td>\n",
       "      <td>PRT</td>\n",
       "      <td>C</td>\n",
       "      <td>C</td>\n",
       "      <td>Transient</td>\n",
       "      <td>Check-Out</td>\n",
       "      <td>2015-07-01</td>\n",
       "    </tr>\n",
       "    <tr>\n",
       "      <th>2</th>\n",
       "      <td>Resort Hotel</td>\n",
       "      <td>0</td>\n",
       "      <td>7</td>\n",
       "      <td>2015-07-01</td>\n",
       "      <td>2015</td>\n",
       "      <td>July</td>\n",
       "      <td>27</td>\n",
       "      <td>1</td>\n",
       "      <td>0</td>\n",
       "      <td>1</td>\n",
       "      <td>...</td>\n",
       "      <td>1</td>\n",
       "      <td>0.0</td>\n",
       "      <td>0</td>\n",
       "      <td>BB</td>\n",
       "      <td>GBR</td>\n",
       "      <td>A</td>\n",
       "      <td>C</td>\n",
       "      <td>Transient</td>\n",
       "      <td>Check-Out</td>\n",
       "      <td>2015-07-02</td>\n",
       "    </tr>\n",
       "    <tr>\n",
       "      <th>3</th>\n",
       "      <td>Resort Hotel</td>\n",
       "      <td>0</td>\n",
       "      <td>13</td>\n",
       "      <td>2015-07-01</td>\n",
       "      <td>2015</td>\n",
       "      <td>July</td>\n",
       "      <td>27</td>\n",
       "      <td>1</td>\n",
       "      <td>0</td>\n",
       "      <td>1</td>\n",
       "      <td>...</td>\n",
       "      <td>1</td>\n",
       "      <td>0.0</td>\n",
       "      <td>0</td>\n",
       "      <td>BB</td>\n",
       "      <td>GBR</td>\n",
       "      <td>A</td>\n",
       "      <td>A</td>\n",
       "      <td>Transient</td>\n",
       "      <td>Check-Out</td>\n",
       "      <td>2015-07-02</td>\n",
       "    </tr>\n",
       "    <tr>\n",
       "      <th>4</th>\n",
       "      <td>Resort Hotel</td>\n",
       "      <td>0</td>\n",
       "      <td>14</td>\n",
       "      <td>2015-07-01</td>\n",
       "      <td>2015</td>\n",
       "      <td>July</td>\n",
       "      <td>27</td>\n",
       "      <td>1</td>\n",
       "      <td>0</td>\n",
       "      <td>2</td>\n",
       "      <td>...</td>\n",
       "      <td>2</td>\n",
       "      <td>0.0</td>\n",
       "      <td>0</td>\n",
       "      <td>BB</td>\n",
       "      <td>GBR</td>\n",
       "      <td>A</td>\n",
       "      <td>A</td>\n",
       "      <td>Transient</td>\n",
       "      <td>Check-Out</td>\n",
       "      <td>2015-07-03</td>\n",
       "    </tr>\n",
       "    <tr>\n",
       "      <th>5</th>\n",
       "      <td>Resort Hotel</td>\n",
       "      <td>0</td>\n",
       "      <td>14</td>\n",
       "      <td>2015-07-01</td>\n",
       "      <td>2015</td>\n",
       "      <td>July</td>\n",
       "      <td>27</td>\n",
       "      <td>1</td>\n",
       "      <td>0</td>\n",
       "      <td>2</td>\n",
       "      <td>...</td>\n",
       "      <td>2</td>\n",
       "      <td>0.0</td>\n",
       "      <td>0</td>\n",
       "      <td>BB</td>\n",
       "      <td>GBR</td>\n",
       "      <td>A</td>\n",
       "      <td>A</td>\n",
       "      <td>Transient</td>\n",
       "      <td>Check-Out</td>\n",
       "      <td>2015-07-03</td>\n",
       "    </tr>\n",
       "    <tr>\n",
       "      <th>6</th>\n",
       "      <td>Resort Hotel</td>\n",
       "      <td>0</td>\n",
       "      <td>0</td>\n",
       "      <td>2015-07-01</td>\n",
       "      <td>2015</td>\n",
       "      <td>July</td>\n",
       "      <td>27</td>\n",
       "      <td>1</td>\n",
       "      <td>0</td>\n",
       "      <td>2</td>\n",
       "      <td>...</td>\n",
       "      <td>2</td>\n",
       "      <td>0.0</td>\n",
       "      <td>0</td>\n",
       "      <td>BB</td>\n",
       "      <td>PRT</td>\n",
       "      <td>C</td>\n",
       "      <td>C</td>\n",
       "      <td>Transient</td>\n",
       "      <td>Check-Out</td>\n",
       "      <td>2015-07-03</td>\n",
       "    </tr>\n",
       "    <tr>\n",
       "      <th>7</th>\n",
       "      <td>Resort Hotel</td>\n",
       "      <td>0</td>\n",
       "      <td>9</td>\n",
       "      <td>2015-07-01</td>\n",
       "      <td>2015</td>\n",
       "      <td>July</td>\n",
       "      <td>27</td>\n",
       "      <td>1</td>\n",
       "      <td>0</td>\n",
       "      <td>2</td>\n",
       "      <td>...</td>\n",
       "      <td>2</td>\n",
       "      <td>0.0</td>\n",
       "      <td>0</td>\n",
       "      <td>FB</td>\n",
       "      <td>PRT</td>\n",
       "      <td>C</td>\n",
       "      <td>C</td>\n",
       "      <td>Transient</td>\n",
       "      <td>Check-Out</td>\n",
       "      <td>2015-07-03</td>\n",
       "    </tr>\n",
       "    <tr>\n",
       "      <th>8</th>\n",
       "      <td>Resort Hotel</td>\n",
       "      <td>1</td>\n",
       "      <td>85</td>\n",
       "      <td>2015-07-01</td>\n",
       "      <td>2015</td>\n",
       "      <td>July</td>\n",
       "      <td>27</td>\n",
       "      <td>1</td>\n",
       "      <td>0</td>\n",
       "      <td>3</td>\n",
       "      <td>...</td>\n",
       "      <td>2</td>\n",
       "      <td>0.0</td>\n",
       "      <td>0</td>\n",
       "      <td>BB</td>\n",
       "      <td>PRT</td>\n",
       "      <td>A</td>\n",
       "      <td>A</td>\n",
       "      <td>Transient</td>\n",
       "      <td>Canceled</td>\n",
       "      <td>2015-05-06</td>\n",
       "    </tr>\n",
       "    <tr>\n",
       "      <th>9</th>\n",
       "      <td>Resort Hotel</td>\n",
       "      <td>1</td>\n",
       "      <td>75</td>\n",
       "      <td>2015-07-01</td>\n",
       "      <td>2015</td>\n",
       "      <td>July</td>\n",
       "      <td>27</td>\n",
       "      <td>1</td>\n",
       "      <td>0</td>\n",
       "      <td>3</td>\n",
       "      <td>...</td>\n",
       "      <td>2</td>\n",
       "      <td>0.0</td>\n",
       "      <td>0</td>\n",
       "      <td>HB</td>\n",
       "      <td>PRT</td>\n",
       "      <td>D</td>\n",
       "      <td>D</td>\n",
       "      <td>Transient</td>\n",
       "      <td>Canceled</td>\n",
       "      <td>2015-04-22</td>\n",
       "    </tr>\n",
       "    <tr>\n",
       "      <th>10</th>\n",
       "      <td>Resort Hotel</td>\n",
       "      <td>1</td>\n",
       "      <td>23</td>\n",
       "      <td>2015-07-01</td>\n",
       "      <td>2015</td>\n",
       "      <td>July</td>\n",
       "      <td>27</td>\n",
       "      <td>1</td>\n",
       "      <td>0</td>\n",
       "      <td>4</td>\n",
       "      <td>...</td>\n",
       "      <td>2</td>\n",
       "      <td>0.0</td>\n",
       "      <td>0</td>\n",
       "      <td>BB</td>\n",
       "      <td>PRT</td>\n",
       "      <td>E</td>\n",
       "      <td>E</td>\n",
       "      <td>Transient</td>\n",
       "      <td>Canceled</td>\n",
       "      <td>2015-06-23</td>\n",
       "    </tr>\n",
       "    <tr>\n",
       "      <th>11</th>\n",
       "      <td>Resort Hotel</td>\n",
       "      <td>0</td>\n",
       "      <td>35</td>\n",
       "      <td>2015-07-01</td>\n",
       "      <td>2015</td>\n",
       "      <td>July</td>\n",
       "      <td>27</td>\n",
       "      <td>1</td>\n",
       "      <td>0</td>\n",
       "      <td>4</td>\n",
       "      <td>...</td>\n",
       "      <td>2</td>\n",
       "      <td>0.0</td>\n",
       "      <td>0</td>\n",
       "      <td>HB</td>\n",
       "      <td>PRT</td>\n",
       "      <td>D</td>\n",
       "      <td>D</td>\n",
       "      <td>Transient</td>\n",
       "      <td>Check-Out</td>\n",
       "      <td>2015-07-05</td>\n",
       "    </tr>\n",
       "    <tr>\n",
       "      <th>12</th>\n",
       "      <td>Resort Hotel</td>\n",
       "      <td>0</td>\n",
       "      <td>68</td>\n",
       "      <td>2015-07-01</td>\n",
       "      <td>2015</td>\n",
       "      <td>July</td>\n",
       "      <td>27</td>\n",
       "      <td>1</td>\n",
       "      <td>0</td>\n",
       "      <td>4</td>\n",
       "      <td>...</td>\n",
       "      <td>2</td>\n",
       "      <td>0.0</td>\n",
       "      <td>0</td>\n",
       "      <td>BB</td>\n",
       "      <td>USA</td>\n",
       "      <td>D</td>\n",
       "      <td>E</td>\n",
       "      <td>Transient</td>\n",
       "      <td>Check-Out</td>\n",
       "      <td>2015-07-05</td>\n",
       "    </tr>\n",
       "    <tr>\n",
       "      <th>13</th>\n",
       "      <td>Resort Hotel</td>\n",
       "      <td>0</td>\n",
       "      <td>18</td>\n",
       "      <td>2015-07-01</td>\n",
       "      <td>2015</td>\n",
       "      <td>July</td>\n",
       "      <td>27</td>\n",
       "      <td>1</td>\n",
       "      <td>0</td>\n",
       "      <td>4</td>\n",
       "      <td>...</td>\n",
       "      <td>2</td>\n",
       "      <td>1.0</td>\n",
       "      <td>0</td>\n",
       "      <td>HB</td>\n",
       "      <td>ESP</td>\n",
       "      <td>G</td>\n",
       "      <td>G</td>\n",
       "      <td>Transient</td>\n",
       "      <td>Check-Out</td>\n",
       "      <td>2015-07-05</td>\n",
       "    </tr>\n",
       "    <tr>\n",
       "      <th>14</th>\n",
       "      <td>Resort Hotel</td>\n",
       "      <td>0</td>\n",
       "      <td>37</td>\n",
       "      <td>2015-07-01</td>\n",
       "      <td>2015</td>\n",
       "      <td>July</td>\n",
       "      <td>27</td>\n",
       "      <td>1</td>\n",
       "      <td>0</td>\n",
       "      <td>4</td>\n",
       "      <td>...</td>\n",
       "      <td>2</td>\n",
       "      <td>0.0</td>\n",
       "      <td>0</td>\n",
       "      <td>BB</td>\n",
       "      <td>PRT</td>\n",
       "      <td>E</td>\n",
       "      <td>E</td>\n",
       "      <td>Transient</td>\n",
       "      <td>Check-Out</td>\n",
       "      <td>2015-07-05</td>\n",
       "    </tr>\n",
       "    <tr>\n",
       "      <th>15</th>\n",
       "      <td>Resort Hotel</td>\n",
       "      <td>0</td>\n",
       "      <td>68</td>\n",
       "      <td>2015-07-01</td>\n",
       "      <td>2015</td>\n",
       "      <td>July</td>\n",
       "      <td>27</td>\n",
       "      <td>1</td>\n",
       "      <td>0</td>\n",
       "      <td>4</td>\n",
       "      <td>...</td>\n",
       "      <td>2</td>\n",
       "      <td>0.0</td>\n",
       "      <td>0</td>\n",
       "      <td>BB</td>\n",
       "      <td>IRL</td>\n",
       "      <td>D</td>\n",
       "      <td>E</td>\n",
       "      <td>Transient</td>\n",
       "      <td>Check-Out</td>\n",
       "      <td>2015-07-05</td>\n",
       "    </tr>\n",
       "    <tr>\n",
       "      <th>16</th>\n",
       "      <td>Resort Hotel</td>\n",
       "      <td>0</td>\n",
       "      <td>37</td>\n",
       "      <td>2015-07-01</td>\n",
       "      <td>2015</td>\n",
       "      <td>July</td>\n",
       "      <td>27</td>\n",
       "      <td>1</td>\n",
       "      <td>0</td>\n",
       "      <td>4</td>\n",
       "      <td>...</td>\n",
       "      <td>2</td>\n",
       "      <td>0.0</td>\n",
       "      <td>0</td>\n",
       "      <td>BB</td>\n",
       "      <td>PRT</td>\n",
       "      <td>E</td>\n",
       "      <td>E</td>\n",
       "      <td>Contract</td>\n",
       "      <td>Check-Out</td>\n",
       "      <td>2015-07-05</td>\n",
       "    </tr>\n",
       "    <tr>\n",
       "      <th>17</th>\n",
       "      <td>Resort Hotel</td>\n",
       "      <td>0</td>\n",
       "      <td>12</td>\n",
       "      <td>2015-07-01</td>\n",
       "      <td>2015</td>\n",
       "      <td>July</td>\n",
       "      <td>27</td>\n",
       "      <td>1</td>\n",
       "      <td>0</td>\n",
       "      <td>1</td>\n",
       "      <td>...</td>\n",
       "      <td>2</td>\n",
       "      <td>0.0</td>\n",
       "      <td>0</td>\n",
       "      <td>BB</td>\n",
       "      <td>IRL</td>\n",
       "      <td>A</td>\n",
       "      <td>E</td>\n",
       "      <td>Transient</td>\n",
       "      <td>Check-Out</td>\n",
       "      <td>2015-07-02</td>\n",
       "    </tr>\n",
       "    <tr>\n",
       "      <th>18</th>\n",
       "      <td>Resort Hotel</td>\n",
       "      <td>0</td>\n",
       "      <td>0</td>\n",
       "      <td>2015-07-01</td>\n",
       "      <td>2015</td>\n",
       "      <td>July</td>\n",
       "      <td>27</td>\n",
       "      <td>1</td>\n",
       "      <td>0</td>\n",
       "      <td>1</td>\n",
       "      <td>...</td>\n",
       "      <td>2</td>\n",
       "      <td>0.0</td>\n",
       "      <td>0</td>\n",
       "      <td>BB</td>\n",
       "      <td>FRA</td>\n",
       "      <td>A</td>\n",
       "      <td>G</td>\n",
       "      <td>Transient</td>\n",
       "      <td>Check-Out</td>\n",
       "      <td>2015-07-02</td>\n",
       "    </tr>\n",
       "  </tbody>\n",
       "</table>\n",
       "<p>19 rows × 21 columns</p>\n",
       "</div>"
      ],
      "text/plain": [
       "           Hotel  Is Canceled  Lead Time arrival full date  Arrival Date Year  \\\n",
       "0   Resort Hotel            0        342        2015-07-01               2015   \n",
       "1   Resort Hotel            0        737        2015-07-01               2015   \n",
       "2   Resort Hotel            0          7        2015-07-01               2015   \n",
       "3   Resort Hotel            0         13        2015-07-01               2015   \n",
       "4   Resort Hotel            0         14        2015-07-01               2015   \n",
       "5   Resort Hotel            0         14        2015-07-01               2015   \n",
       "6   Resort Hotel            0          0        2015-07-01               2015   \n",
       "7   Resort Hotel            0          9        2015-07-01               2015   \n",
       "8   Resort Hotel            1         85        2015-07-01               2015   \n",
       "9   Resort Hotel            1         75        2015-07-01               2015   \n",
       "10  Resort Hotel            1         23        2015-07-01               2015   \n",
       "11  Resort Hotel            0         35        2015-07-01               2015   \n",
       "12  Resort Hotel            0         68        2015-07-01               2015   \n",
       "13  Resort Hotel            0         18        2015-07-01               2015   \n",
       "14  Resort Hotel            0         37        2015-07-01               2015   \n",
       "15  Resort Hotel            0         68        2015-07-01               2015   \n",
       "16  Resort Hotel            0         37        2015-07-01               2015   \n",
       "17  Resort Hotel            0         12        2015-07-01               2015   \n",
       "18  Resort Hotel            0          0        2015-07-01               2015   \n",
       "\n",
       "   Arrival Date Month  Arrival Date Week Number  Arrival Date Day of Month  \\\n",
       "0                July                        27                          1   \n",
       "1                July                        27                          1   \n",
       "2                July                        27                          1   \n",
       "3                July                        27                          1   \n",
       "4                July                        27                          1   \n",
       "5                July                        27                          1   \n",
       "6                July                        27                          1   \n",
       "7                July                        27                          1   \n",
       "8                July                        27                          1   \n",
       "9                July                        27                          1   \n",
       "10               July                        27                          1   \n",
       "11               July                        27                          1   \n",
       "12               July                        27                          1   \n",
       "13               July                        27                          1   \n",
       "14               July                        27                          1   \n",
       "15               July                        27                          1   \n",
       "16               July                        27                          1   \n",
       "17               July                        27                          1   \n",
       "18               July                        27                          1   \n",
       "\n",
       "    Stays in Weekend nights  Stays in week nights  ...  Adults  Children  \\\n",
       "0                         0                     0  ...       2       0.0   \n",
       "1                         0                     0  ...       2       0.0   \n",
       "2                         0                     1  ...       1       0.0   \n",
       "3                         0                     1  ...       1       0.0   \n",
       "4                         0                     2  ...       2       0.0   \n",
       "5                         0                     2  ...       2       0.0   \n",
       "6                         0                     2  ...       2       0.0   \n",
       "7                         0                     2  ...       2       0.0   \n",
       "8                         0                     3  ...       2       0.0   \n",
       "9                         0                     3  ...       2       0.0   \n",
       "10                        0                     4  ...       2       0.0   \n",
       "11                        0                     4  ...       2       0.0   \n",
       "12                        0                     4  ...       2       0.0   \n",
       "13                        0                     4  ...       2       1.0   \n",
       "14                        0                     4  ...       2       0.0   \n",
       "15                        0                     4  ...       2       0.0   \n",
       "16                        0                     4  ...       2       0.0   \n",
       "17                        0                     1  ...       2       0.0   \n",
       "18                        0                     1  ...       2       0.0   \n",
       "\n",
       "    Babies  Meal Country Reserved Room Type Assigned room type customer type  \\\n",
       "0        0    BB     PRT                  C                  C     Transient   \n",
       "1        0    BB     PRT                  C                  C     Transient   \n",
       "2        0    BB     GBR                  A                  C     Transient   \n",
       "3        0    BB     GBR                  A                  A     Transient   \n",
       "4        0    BB     GBR                  A                  A     Transient   \n",
       "5        0    BB     GBR                  A                  A     Transient   \n",
       "6        0    BB     PRT                  C                  C     Transient   \n",
       "7        0    FB     PRT                  C                  C     Transient   \n",
       "8        0    BB     PRT                  A                  A     Transient   \n",
       "9        0    HB     PRT                  D                  D     Transient   \n",
       "10       0    BB     PRT                  E                  E     Transient   \n",
       "11       0    HB     PRT                  D                  D     Transient   \n",
       "12       0    BB     USA                  D                  E     Transient   \n",
       "13       0    HB     ESP                  G                  G     Transient   \n",
       "14       0    BB     PRT                  E                  E     Transient   \n",
       "15       0    BB     IRL                  D                  E     Transient   \n",
       "16       0    BB     PRT                  E                  E      Contract   \n",
       "17       0    BB     IRL                  A                  E     Transient   \n",
       "18       0    BB     FRA                  A                  G     Transient   \n",
       "\n",
       "   Reservation Status Reservation status_date  \n",
       "0           Check-Out              2015-07-01  \n",
       "1           Check-Out              2015-07-01  \n",
       "2           Check-Out              2015-07-02  \n",
       "3           Check-Out              2015-07-02  \n",
       "4           Check-Out              2015-07-03  \n",
       "5           Check-Out              2015-07-03  \n",
       "6           Check-Out              2015-07-03  \n",
       "7           Check-Out              2015-07-03  \n",
       "8            Canceled              2015-05-06  \n",
       "9            Canceled              2015-04-22  \n",
       "10           Canceled              2015-06-23  \n",
       "11          Check-Out              2015-07-05  \n",
       "12          Check-Out              2015-07-05  \n",
       "13          Check-Out              2015-07-05  \n",
       "14          Check-Out              2015-07-05  \n",
       "15          Check-Out              2015-07-05  \n",
       "16          Check-Out              2015-07-05  \n",
       "17          Check-Out              2015-07-02  \n",
       "18          Check-Out              2015-07-02  \n",
       "\n",
       "[19 rows x 21 columns]"
      ]
     },
     "execution_count": 3,
     "metadata": {},
     "output_type": "execute_result"
    }
   ],
   "source": [
    "bookings = pd.read_csv('3_bookings.csv', delimiter=';')\n",
    "bookings.head(19)"
   ]
  },
  {
   "cell_type": "markdown",
   "metadata": {
    "id": "FYsIpatGbq3l"
   },
   "source": [
    "4. Выведите первые 19 строк датафрейма"
   ]
  },
  {
   "cell_type": "markdown",
   "metadata": {
    "id": "BqadhAKbbq3l"
   },
   "source": [
    "<details>\n",
    "<summary>&#9658; Нажмите сюда, чтобы увидеть подсказку</summary>\n",
    "  <p>\n",
    "      \n",
    "Используйте метод `head()`. Например, код\n",
    "```python\n",
    "df.head(10)\n",
    "```\n",
    "выведет первые 10 строк датафрейма `df`.\n",
    "</p>\n",
    "</details>"
   ]
  },
  {
   "cell_type": "code",
   "execution_count": 19,
   "metadata": {
    "id": "8r_Mhs7sbq3l"
   },
   "outputs": [
    {
     "data": {
      "text/plain": [
       "18    FRA\n",
       "Name: Country, dtype: object"
      ]
     },
     "execution_count": 19,
     "metadata": {},
     "output_type": "execute_result"
    }
   ],
   "source": [
    "country_19 = bookings.loc[18, 'Country']\n",
    "country_19_var2 = bookings.loc[[18], 'Country']\n",
    "country_19_var3 = bookings.head(19).tail(1)['Country']\n",
    "\n",
    "country_19_var3"
   ]
  },
  {
   "cell_type": "markdown",
   "metadata": {
    "id": "S4GIagj1bq3l"
   },
   "source": [
    "5. Определите название страны из 19-й сверху строки в колонке `Country`"
   ]
  },
  {
   "cell_type": "markdown",
   "metadata": {
    "id": "1EWdF29kbq3m"
   },
   "source": [
    "<details>\n",
    "<summary>&#9658; Нажмите сюда, чтобы увидеть подсказку</summary>\n",
    "  <p>\n",
    "      \n",
    "Обратитесь к названию колонки, взяв его в квадратные скобки и кавычки. Например, код\n",
    "```python\n",
    "df.head(10)['col_1']\n",
    "```\n",
    "выведет первые 10 строк колонки `col_1` датафрейма `df`.\n",
    "      \n",
    "Помните, что вам нужна «19-я сверху строка», это может быть не то же самое, что «строка с индексом 19». Если вы вывели первые 19 строк датафрейма, нужная вам строка будет самой нижней.\n",
    "</p>\n",
    "</details>"
   ]
  },
  {
   "cell_type": "code",
   "execution_count": null,
   "metadata": {
    "id": "-56heKdqbq3m"
   },
   "outputs": [],
   "source": [
    "# Ваш код здесь\n",
    "\n"
   ]
  },
  {
   "cell_type": "markdown",
   "metadata": {
    "id": "W2bvg2Nbbq3o"
   },
   "source": [
    "## Шаг 3"
   ]
  },
  {
   "cell_type": "markdown",
   "metadata": {
    "id": "wrjlAcllbq3o"
   },
   "source": [
    "Посмотрите на размеры датафрейма `bookings`. **Сколько всего в нем строк и столбцов?**"
   ]
  },
  {
   "cell_type": "markdown",
   "metadata": {
    "id": "eIg6cKrUbq3o"
   },
   "source": [
    "<details>\n",
    "<summary>&#9658; Нажмите сюда, чтобы увидеть подсказку</summary>\n",
    "  <p>\n",
    "      \n",
    "Используйте атрибут `shape`, чтобы узнать количество строк и столбцов. Этот атрибут возвращает кортеж, первый элемент которого указывает на количество строк, а второй — на количество столбцов в датафрейме.  \n",
    "\n",
    "Для обращения к атрибуту датафрейма нужно написать переменную, где хранится датафрейм, поставить точку и написать название атрибута (без скобок!). Например:\n",
    "```python\n",
    "df.some_attribute\n",
    "```\n",
    "так мы обратимся к атрибуту `some_attribute` у датафрейма в переменной `df`\n",
    "</p>\n",
    "</details>"
   ]
  },
  {
   "cell_type": "code",
   "execution_count": 21,
   "metadata": {
    "id": "xc4b1Rg6bq3o"
   },
   "outputs": [
    {
     "name": "stdout",
     "output_type": "stream",
     "text": [
      "col=21,  rows=119390\n"
     ]
    }
   ],
   "source": [
    "# Ваш код здесь\n",
    "row, col = bookings.shape\n",
    "print(f'col={col },  rows={row}')\n"
   ]
  },
  {
   "cell_type": "markdown",
   "metadata": {
    "id": "2E8e5w3Wbq3p"
   },
   "source": [
    "## Шаг 4"
   ]
  },
  {
   "cell_type": "markdown",
   "metadata": {
    "id": "O4VYF26vbq3p"
   },
   "source": [
    "**К какому типу/каким типам относится большинство столбцов?** Выберите один или несколько вариантов."
   ]
  },
  {
   "cell_type": "markdown",
   "metadata": {
    "id": "cx_JpT7fbq3p"
   },
   "source": [
    "Шаги выполнения:\n",
    "1. Проверьте типы данных в датафрейме"
   ]
  },
  {
   "cell_type": "markdown",
   "metadata": {
    "id": "oVJTu2PSbq3q"
   },
   "source": [
    "<details>\n",
    "<summary>&#9658; Нажмите сюда, чтобы увидеть подсказку</summary>\n",
    "  <p>\n",
    "Есть два способа узнать типы данных:\n",
    "      \n",
    "1) Используйте атрибут `dtypes`. Он возвращает серию, индексами которой являются названия столбцов, а значениями — тип данных в этих столбцах.  \n",
    "\n",
    "Для обращения к атрибуту датафрейма нужно написать переменную, где хранится датафрейм, поставить точку и написать название атрибута (без скобок!). Например:\n",
    "```python\n",
    "df.some_attribute\n",
    "```\n",
    "Так мы обратимся к атрибуту `some_attribute` у датафрейма в переменной `df`.\n",
    "      \n",
    "2) Либо примените к датафрейму метод `info()`, который выводит подробную информацию о датафрейме и его колонках.\n",
    "      \n",
    "Как использовать метод? Например, применим метод `some_method()` к датафрейму `df`:\n",
    "```python\n",
    "df.some_method()\n",
    "```\n",
    "</p>\n",
    "</details>"
   ]
  },
  {
   "cell_type": "code",
   "execution_count": 31,
   "metadata": {
    "id": "C3-Z8vb1bq3q"
   },
   "outputs": [
    {
     "name": "stdout",
     "output_type": "stream",
     "text": [
      "<class 'pandas.core.frame.DataFrame'>\n",
      "RangeIndex: 119390 entries, 0 to 119389\n",
      "Data columns (total 21 columns):\n",
      " #   Column                     Non-Null Count   Dtype  \n",
      "---  ------                     --------------   -----  \n",
      " 0   Hotel                      119390 non-null  object \n",
      " 1   Is Canceled                119390 non-null  int64  \n",
      " 2   Lead Time                  119390 non-null  int64  \n",
      " 3   arrival full date          119390 non-null  object \n",
      " 4   Arrival Date Year          119390 non-null  int64  \n",
      " 5   Arrival Date Month         119390 non-null  object \n",
      " 6   Arrival Date Week Number   119390 non-null  int64  \n",
      " 7   Arrival Date Day of Month  119390 non-null  int64  \n",
      " 8   Stays in Weekend nights    119390 non-null  int64  \n",
      " 9   Stays in week nights       119390 non-null  int64  \n",
      " 10  stays total nights         119390 non-null  int64  \n",
      " 11  Adults                     119390 non-null  int64  \n",
      " 12  Children                   119386 non-null  float64\n",
      " 13  Babies                     119390 non-null  int64  \n",
      " 14  Meal                       119390 non-null  object \n",
      " 15  Country                    118902 non-null  object \n",
      " 16  Reserved Room Type         119390 non-null  object \n",
      " 17  Assigned room type         119390 non-null  object \n",
      " 18  customer type              119390 non-null  object \n",
      " 19  Reservation Status         119390 non-null  object \n",
      " 20  Reservation status_date    119390 non-null  object \n",
      "dtypes: float64(1), int64(10), object(10)\n",
      "memory usage: 19.1+ MB\n"
     ]
    }
   ],
   "source": [
    "# Ваш код здесь\n",
    "types = bookings.dtypes\n",
    "types.value_counts()\n",
    "# или нижняя строчка в bookings.info()\n",
    "bookings.info()\n"
   ]
  },
  {
   "cell_type": "markdown",
   "metadata": {
    "id": "HsByVL61bq3q"
   },
   "source": [
    "2. Определите, какой тип/какие типы данных преобладают"
   ]
  },
  {
   "cell_type": "markdown",
   "metadata": {
    "id": "ZyHGvcoabq3q"
   },
   "source": [
    "<details>\n",
    "<summary>&#9658; Нажмите сюда, чтобы увидеть подсказку</summary>\n",
    "  <p>\n",
    "\n",
    "Код для этого писать не нужно, посмотрите просто глазами. Если использовали атрибут `dtypes`, количество каждого типа нужно будет посчитать. А метод `info()` все посчитал сам, смотрите на предпоследнюю строчку, которая начинается с `dtypes:`, количество колонок каждого типа указаны в скобках\n",
    "</p>\n",
    "</details>"
   ]
  },
  {
   "cell_type": "markdown",
   "metadata": {
    "id": "W0vKh7BJbq3z"
   },
   "source": [
    "## Шаг 5"
   ]
  },
  {
   "cell_type": "markdown",
   "metadata": {
    "id": "5nv1u76Abq3z"
   },
   "source": [
    "Как вы уже могли заметить, названия колонок записаны в неудобном для дальнейшей работы формате. **Исправьте ситуацию, приведя названия столбцов к нижнему регистру и заменив пробелы на знак нижнего подчеркивания**.\n",
    "Например: `Is Canceled` -> `is_canceled`\n",
    "\n",
    "Вручную это делать долго и неудобно, попробуйте автоматизировать ваше решение. Для этого могут пригодиться:\n",
    "\n",
    "[rename](https://pandas.pydata.org/pandas-docs/stable/reference/api/pandas.DataFrame.rename.html)  \n",
    "[str.lower](https://pandas.pydata.org/pandas-docs/stable/reference/api/pandas.Series.str.lower.html)  \n",
    "[str.replace](https://docs.python.org/3/library/stdtypes.html#str.replace)  \n",
    "[columns](https://pandas.pydata.org/pandas-docs/stable/reference/api/pandas.DataFrame.columns.html)\n",
    "\n",
    "Подробнее о них можно прочитать в документации по ссылкам или в конспектах этого и предыдущего уроков."
   ]
  },
  {
   "cell_type": "markdown",
   "metadata": {
    "id": "7rZVgifibq30"
   },
   "source": [
    "Шаги выполнения:\n",
    "1. На одном названии колонки потренируйтесь приводить его к нижнему регистру и заменять пробелы на знак нижнего подчеркивания. Для примера можете взять название колонки `Is Canceled` как строку, в кавычках."
   ]
  },
  {
   "cell_type": "markdown",
   "metadata": {
    "id": "W-60NfYqbq30"
   },
   "source": [
    "<details>\n",
    "<summary>&#9658; Нажмите сюда, чтобы увидеть подсказку</summary>\n",
    "  <p>\n",
    "\n",
    "**Чтобы заменить пробелы на нижние подчеркивания, используйте метод `replace()`**, применив его к строке с названием колонки. Этот метод принимает на вход два аргумента, подстроки в таком порядке: что заменить и на что заменить.\n",
    "\n",
    "**Как использовать метод `replace()`?** Например, применим его к строке `old_str_name`, которая содержит подстроку `old_str`, чтобы заменить её на подстроку `new_str`:\n",
    "```python\n",
    "'old_str_name'.replace('old_str', 'new_str')\n",
    "```\n",
    "\n",
    "**Чтобы перевести строчку в нижний регистр, воспользуйтесь методом `lower`**. Он не принимает аргументов, а просто переводит всё в нижний регистр, к примеру:\n",
    "```python\n",
    "'Hello, World!'.lower()\n",
    "```\n",
    "Вернёт строчку, где всё написано маленькими буквами.\n",
    "      \n",
    "**Как сразу заменить пробелы и привести буквы к нижнему регистру?** Используйте цепочку методов: напишите два метода подряд, поставив перед каждым точку. Например:\n",
    "```python\n",
    "'old_str_name'.some_method_1().some_method_2()\n",
    "```   \n",
    "</p>\n",
    "</details>"
   ]
  },
  {
   "cell_type": "code",
   "execution_count": 38,
   "metadata": {
    "id": "XFesWmtwbq30"
   },
   "outputs": [],
   "source": [
    "#bookings = bookings.rename(columns={'Is Canceled': 'is_canceled'})\n",
    "#bookings.columns\n",
    "\n"
   ]
  },
  {
   "cell_type": "markdown",
   "metadata": {
    "id": "s8mYL2vKbq30"
   },
   "source": [
    "2. Теперь используйте получившийся код для всех названий колонок. Пройдя циклом по списку колонок датафрейма, соберите словарь, в котором ключами будут старые названия колонок, а значениями — новые. Перед циклом, но желательно в той же ячейке, не забудьте создать пустой словарь, куда будете складывать пары названий колонок ключ-значение."
   ]
  },
  {
   "cell_type": "markdown",
   "metadata": {
    "id": "6nTvoWfibq31"
   },
   "source": [
    "<details>\n",
    "<summary>&#9658; Нажмите сюда, чтобы увидеть подсказку</summary>\n",
    "  <p>\n",
    "    \n",
    "**Как создать пустой словарь?** Сохраните в переменную пустую пару фигурных скобок. Например:\n",
    "```python\n",
    "dictionary_name = {}\n",
    "```\n",
    "\n",
    "**Как пройти циклом по списку колонок?** Например:\n",
    "```python\n",
    "for col in column_names:\n",
    "      some action at col\n",
    "```     \n",
    "выполнит некоторое действие с каждой колонкой (`col`) в перечне колонок `column_names`.\n",
    "      \n",
    "**Для обращения к названиям колонок используйте атрибут `columns`**. Для обращения к атрибуту датафрейма нужно написать переменную, где хранится датафрейм, поставить точку и написать название атрибута (без скобок!). Например:\n",
    "```python\n",
    "df.some_attribute\n",
    "```\n",
    "так мы обратимся к атрибуту `some_attribute` у датафрейма в переменной `df`.\n",
    "      \n",
    "**Как добавить в словарь пару старого и нового названия колонок?** Для этого нужно сохранить новое название, привязав его к ключу - старому названию. Например:\n",
    "\n",
    "```python\n",
    "dictionary_name[old_name] = new_name\n",
    "```\n",
    "сохранит пару ключ-значение в словарь `dictionary_name`, где ключом является переменная `old_name`, в которой лежит строка со старым названием, а значением - переменная `new_name`, в которой строка с новым названием\n",
    "</p>\n",
    "</details>"
   ]
  },
  {
   "cell_type": "code",
   "execution_count": 42,
   "metadata": {
    "id": "nIPBpDqMbq31"
   },
   "outputs": [
    {
     "data": {
      "text/plain": [
       "{'Hotel': 'hotel',\n",
       " 'is_canceled': 'is_canceled',\n",
       " 'Lead Time': 'lead_time',\n",
       " 'arrival full date': 'arrival_full_date',\n",
       " 'Arrival Date Year': 'arrival_date_year',\n",
       " 'Arrival Date Month': 'arrival_date_month',\n",
       " 'Arrival Date Week Number': 'arrival_date_week_number',\n",
       " 'Arrival Date Day of Month': 'arrival_date_day_of_month',\n",
       " 'Stays in Weekend nights': 'stays_in_weekend_nights',\n",
       " 'Stays in week nights': 'stays_in_week_nights',\n",
       " 'stays total nights': 'stays_total_nights',\n",
       " 'Adults': 'adults',\n",
       " 'Children': 'children',\n",
       " 'Babies': 'babies',\n",
       " 'Meal': 'meal',\n",
       " 'Country': 'country',\n",
       " 'Reserved Room Type': 'reserved_room_type',\n",
       " 'Assigned room type': 'assigned_room_type',\n",
       " 'customer type': 'customer_type',\n",
       " 'Reservation Status': 'reservation_status',\n",
       " 'Reservation status_date': 'reservation_status_date'}"
      ]
     },
     "execution_count": 42,
     "metadata": {},
     "output_type": "execute_result"
    }
   ],
   "source": [
    "NAMES_MAP = {column: column.lower().replace(' ', '_') for column in bookings.columns}\n",
    "\n",
    "NAMES_MAP"
   ]
  },
  {
   "cell_type": "markdown",
   "metadata": {
    "id": "CGulK3O4bq32"
   },
   "source": [
    "3. Убедитесь, что в словаре с названиями колонок получились именно те значения, которые вам нужны"
   ]
  },
  {
   "cell_type": "markdown",
   "metadata": {
    "id": "PPOWK_9Kbq32"
   },
   "source": [
    "<details>\n",
    "<summary>&#9658; Нажмите сюда, чтобы увидеть подсказку</summary>\n",
    "  <p>\n",
    "    \n",
    "Как посмотреть содержимое словаря? Запустите ячейку с названием словаря. Например:\n",
    "```python\n",
    "dictionary_name\n",
    "```\n",
    "выведет содержимое словаря, где запятыми будут разделены пары ключ-значение. Внутри каждой пары сначала идет ключ (старое название), за ним двоеточие, а потом значение (новое название).\n",
    "</p>\n",
    "</details>"
   ]
  },
  {
   "cell_type": "code",
   "execution_count": 45,
   "metadata": {
    "id": "rJ7NRcPFbq32"
   },
   "outputs": [
    {
     "data": {
      "text/plain": [
       "Index(['hotel', 'is_canceled', 'lead_time', 'arrival_full_date',\n",
       "       'arrival_date_year', 'arrival_date_month', 'arrival_date_week_number',\n",
       "       'arrival_date_day_of_month', 'stays_in_weekend_nights',\n",
       "       'stays_in_week_nights', 'stays_total_nights', 'adults', 'children',\n",
       "       'babies', 'meal', 'country', 'reserved_room_type', 'assigned_room_type',\n",
       "       'customer_type', 'reservation_status', 'reservation_status_date'],\n",
       "      dtype='object')"
      ]
     },
     "execution_count": 45,
     "metadata": {},
     "output_type": "execute_result"
    }
   ],
   "source": [
    "bookings = bookings.rename(columns=NAMES_MAP)\n",
    "bookings.columns\n"
   ]
  },
  {
   "cell_type": "markdown",
   "metadata": {
    "id": "DT_fjTQ_bq32"
   },
   "source": [
    "4. Используя получившийся словарь, переименуйте колонки датафрейма `bookings`, сохранив результат в том же датафрейме"
   ]
  },
  {
   "cell_type": "markdown",
   "metadata": {
    "id": "5aPZVNp-bq32"
   },
   "source": [
    "<details>\n",
    "<summary>&#9658; Нажмите сюда, чтобы увидеть подсказку</summary>\n",
    "  <p>\n",
    "\n",
    "Для переименования колонок, передайте в метод `rename()` в параметр `columns` словарь, где ключами являются старые названия колонок, а значениями - новые названия. Например:\n",
    "\n",
    "```python\n",
    "df = df.rename(columns=dictionary_name)\n",
    "```\n",
    "</p>\n",
    "</details>"
   ]
  },
  {
   "cell_type": "code",
   "execution_count": null,
   "metadata": {
    "id": "ug3rBsDYbq33"
   },
   "outputs": [],
   "source": [
    "# Ваш код здесь\n",
    "\n"
   ]
  },
  {
   "cell_type": "markdown",
   "metadata": {
    "id": "la7R-Ns6bq33"
   },
   "source": [
    "5. Убедитесь, что названия столбцов были успешно изменены и результат сохранен в датафрейм `bookings`"
   ]
  },
  {
   "cell_type": "markdown",
   "metadata": {
    "id": "HfrNRpcMbq33"
   },
   "source": [
    "<details>\n",
    "<summary>&#9658; Нажмите сюда, чтобы увидеть подсказку</summary>\n",
    "  <p>\n",
    "      \n",
    "Используйте атрибут `columns`. Он возвращает названия колонок датафрейма.  \n",
    "\n",
    "Для обращения к атрибуту датафрейма нужно написать переменную, где хранится датафрейм, поставить точку и написать название атрибута (без скобок!). Например:\n",
    "```python\n",
    "df.some_attribute\n",
    "```\n",
    "так мы обратимся к атрибуту `some_attribute` у датафрейма в переменной `df`.\n",
    "</p>\n",
    "</details>"
   ]
  },
  {
   "cell_type": "code",
   "execution_count": null,
   "metadata": {
    "id": "0qw8u96pbq33"
   },
   "outputs": [],
   "source": [
    "# Ваш код здесь\n",
    "\n"
   ]
  },
  {
   "cell_type": "markdown",
   "metadata": {
    "id": "9dI7oufGbq34"
   },
   "source": [
    "**В LMS датафрейм с прежними названиями колонок сохранен в переменную `bookings`. Перенесите в LMS код с переименованием столбцов и сохранением результата в тот же датафрейм `bookings`. Код из 1, 3 и 5 шагов переносить в LMS не нужно**"
   ]
  },
  {
   "cell_type": "markdown",
   "metadata": {
    "id": "jezyA4mdbq35"
   },
   "source": [
    "## Шаг 6"
   ]
  },
  {
   "cell_type": "markdown",
   "metadata": {
    "id": "_PkGXUhwbq36"
   },
   "source": [
    "Перейдем к исследованию данных. Чтобы вести успешный бизнес, нашей сети отелей нужно понимать своих клиентов. В этом задании выясните, пользователи из каких стран совершили наибольшее число успешных бронирований? Бронирование считается успешным, если в дальнейшем не было отменено (см.колонку `is_canceled`). **В качестве ответа выберите страны, входящие в топ-5 по числу успешных бронирований**."
   ]
  },
  {
   "cell_type": "markdown",
   "metadata": {
    "id": "BAbxPFfebq36"
   },
   "source": [
    "Шаги выполнения:  \n",
    "1. Выберите только те записи, где бронирование не было отменено (значение в колонке `is_canceled` равно 0)"
   ]
  },
  {
   "cell_type": "markdown",
   "metadata": {
    "id": "S1nyqL7cbq36"
   },
   "source": [
    "<details>\n",
    "<summary>&#9658; Нажмите сюда, чтобы увидеть подсказку</summary>\n",
    "  <p>\n",
    "\n",
    "Чтобы отобрать только нужные записи, примените к датафрейму метод `query()`, внутри которого напишите строку с условием, что значение в колонке `is_canceled` равно 0.\n",
    "\n",
    "Как использовать метод `query()`? Например, отберем строки датафрейма `df`, где в колонке `col_name` значение равно 5:\n",
    "\n",
    "```python\n",
    "df.query('col_name == 5')\n",
    "```      \n",
    "\n",
    "Учтите, что условие нужно писать в кавычках, а название колонки — без кавычек.\n",
    "      \n",
    "Помните, что один знак равно означает присвоение, а два — проверку на равенство.\n",
    "      \n",
    "</p>\n",
    "</details>"
   ]
  },
  {
   "cell_type": "code",
   "execution_count": 68,
   "metadata": {
    "id": "udBokxNUbq36"
   },
   "outputs": [
    {
     "data": {
      "text/plain": [
       "PRT    21071\n",
       "GBR     9676\n",
       "FRA     8481\n",
       "ESP     6391\n",
       "DEU     6069\n",
       "Name: country, dtype: int64"
      ]
     },
     "execution_count": 68,
     "metadata": {},
     "output_type": "execute_result"
    }
   ],
   "source": [
    "#not_canceled = bookings.query('is_canceled == 0').groupby('country').count().sort_values(by='hotel', ascending=False)\n",
    "not_canceled2 = bookings.loc[bookings.is_canceled == 0].country.value_counts().head(5)\n",
    "not_canceled2\n",
    "\n"
   ]
  },
  {
   "cell_type": "markdown",
   "metadata": {
    "id": "2LqqjRYZbq36"
   },
   "source": [
    "2. Посчитайте количество оставшихся после фильтрации бронирований для каждой страны"
   ]
  },
  {
   "cell_type": "markdown",
   "metadata": {
    "id": "PlDMysXDbq37"
   },
   "source": [
    "<details>\n",
    "<summary>&#9658; Нажмите сюда, чтобы увидеть подсказку</summary>\n",
    "  <p>\n",
    "\n",
    "Используйте метод `value_counts()`, применив его к столбцу `country`. Этот метод возвращает серию, где индексы — это уникальные значения из столбца, а значения — это частота их встречаемости. По умолчанию метод располагает записи по убыванию частоты (то есть от большего значения к меньшему)\n",
    "\n",
    "Как использовать метод? Например применим метод `some_method()` к колонке `column_name` датафрейма `df`:\n",
    "```python\n",
    "df.column_name.some_method()\n",
    "```\n",
    "\n",
    "</p>\n",
    "</details>"
   ]
  },
  {
   "cell_type": "code",
   "execution_count": null,
   "metadata": {
    "id": "VElf1Th9bq37"
   },
   "outputs": [],
   "source": [
    "# Ваш код здесь\n",
    "\n"
   ]
  },
  {
   "cell_type": "markdown",
   "metadata": {
    "id": "GiDfrHsIbq37"
   },
   "source": [
    "3. На основе получившихся расчетов определите 5 стран с наибольшим числом успешных бронирований"
   ]
  },
  {
   "cell_type": "markdown",
   "metadata": {
    "id": "q7lUM1Unbq37"
   },
   "source": [
    "<details>\n",
    "<summary>&#9658; Нажмите сюда, чтобы увидеть подсказку</summary>\n",
    "  <p>\n",
    "      \n",
    "Используйте метод `head()`, который выводит выводит верхние строки датафрейма (по умолчанию — первые 5 строк). Например, код\n",
    "```python\n",
    "df.head(10)\n",
    "```\n",
    "выведет первые 10 строк датафрейма `df`.\n",
    "</p>\n",
    "</details>"
   ]
  },
  {
   "cell_type": "code",
   "execution_count": null,
   "metadata": {
    "id": "echmB9Abbq37"
   },
   "outputs": [],
   "source": [
    "# Ваш код здесь\n",
    "\n"
   ]
  },
  {
   "cell_type": "markdown",
   "metadata": {
    "id": "EbO4PNu8bq38"
   },
   "source": [
    "## Шаг 7"
   ]
  },
  {
   "cell_type": "markdown",
   "metadata": {
    "id": "VnygM25Kbq38"
   },
   "source": [
    "В нашей сети есть два типа отелей: City Hotel и Resort Hotel. Владельцы сети хотят понимать, отличается ли длительность бронирования в зависимости от типа отеля (см.колонку `hotel`). **Выясните, на сколько ночей (см.колонку `stays_total_nights`) в среднем бронируют отели City Hotel и на сколько Resort Hotel?** Запишите полученные значения в пропуски с точностью до двух знаков после точки.\n",
    "\n",
    "Может пригодиться: [round](https://pandas.pydata.org/pandas-docs/stable/reference/api/pandas.Series.round.html)"
   ]
  },
  {
   "cell_type": "markdown",
   "metadata": {
    "id": "JLCjoRcVbq38"
   },
   "source": [
    "Шаги выполнения:  \n",
    "1. Сгруппируйте данные по типу отеля и посчитайте для каждой группы среднее число забронированных ночей"
   ]
  },
  {
   "cell_type": "markdown",
   "metadata": {
    "id": "MSjfm-wgbq39"
   },
   "source": [
    "<details>\n",
    "<summary>&#9658; Нажмите сюда, чтобы увидеть подсказку</summary>\n",
    "  <p>\n",
    "\n",
    "**Сгруппируйте данные по столбцу `hotel`, используя метод `groupby()`**. Его вызов группирует строки по значениям в какой-то колонке (или комбинации значений из нескольких колонок). Например,\n",
    "\n",
    "```python\n",
    "df.groupby('month')\n",
    "```\n",
    "сгруппирует данные датафрейма `df` по колонке `month`. Сама по себе группировка не вычисляет что-то по группам.\n",
    "\n",
    "**После группировки используйте метод `mean()` для столбца `stays_total_nights`**. Этот метод посчитает среднее всех значений в указанном столбце.\n",
    "\n",
    "**Как использовать метод?** Давайте применим метод `some_method()` к колонке `column_name` датафрейма `df`:\n",
    "```python\n",
    "df.column_name.some_method()\n",
    "```\n",
    "\n",
    "**Как использовать метод сразу после группировки?** Применим метод `some_method()` к колонке `column_name_2` после группировки по столбцу `column_name_1` датафрейма `df`:\n",
    "```python\n",
    "df.groupby('column_name_1').column_name_2.some_method()\n",
    "```      \n",
    "</p>\n",
    "</details>"
   ]
  },
  {
   "cell_type": "code",
   "execution_count": 80,
   "metadata": {
    "id": "UJDnIS-Ubq39"
   },
   "outputs": [
    {
     "data": {
      "text/plain": [
       "hotel\n",
       "City Hotel      79330\n",
       "Resort Hotel    40060\n",
       "dtype: int64"
      ]
     },
     "execution_count": 80,
     "metadata": {},
     "output_type": "execute_result"
    }
   ],
   "source": [
    "mean_city_hotel = round(bookings.loc[bookings.hotel == 'City Hotel'].stays_total_nights.mean(), 2)\n",
    "mean_city_hotel\n",
    "\n",
    "mean_resort_hotel = round(bookings.loc[bookings.hotel == 'Resort Hotel'].stays_total_nights.mean(), 2)\n",
    "mean_resort_hotel\n",
    "\n",
    "#или!!\n",
    "\n",
    "bookings.groupby('hotel').stays_total_nights.mean().round(2)\n",
    "\n",
    "bookings.groupby('hotel').agg({'stays_total_nights': 'mean'}).round(2)\n",
    "\n",
    "bookings.groupby('hotel').size()\n"
   ]
  },
  {
   "cell_type": "markdown",
   "metadata": {
    "id": "2A3_jW3Fbq39"
   },
   "source": [
    "2. Округлите результаты до двух знаков после точки"
   ]
  },
  {
   "cell_type": "markdown",
   "metadata": {
    "id": "ifmVIOohbq3-"
   },
   "source": [
    "<details>\n",
    "<summary>&#9658; Нажмите сюда, чтобы увидеть подсказку</summary>\n",
    "  <p>\n",
    "\n",
    "Используйте метод `round()`, который округляет значения во всех или только в указанных колонках датафрейма. По умолчанию округление идет до целого числа. Чтобы задать нужное число знаков после точки, передайте в метод аргумент — целое число. Например применим метод к колонке `column_name` датафрейма `df`, задав округление до пяти знаков после точки:\n",
    "```python\n",
    "df.column_name.round(5)\n",
    "```\n",
    "\n",
    "</p>\n",
    "</details>"
   ]
  },
  {
   "cell_type": "code",
   "execution_count": null,
   "metadata": {
    "id": "dZC9COHYbq3-"
   },
   "outputs": [],
   "source": [
    "# Ваш код здесь\n",
    "\n"
   ]
  },
  {
   "cell_type": "markdown",
   "metadata": {
    "id": "qTsEXBJYbq3_"
   },
   "source": [
    "## Шаг 8"
   ]
  },
  {
   "cell_type": "markdown",
   "metadata": {
    "id": "l2LTha1hbq3_"
   },
   "source": [
    "Бывает, что в наших отелях случается [овербукинг](https://ru.wikipedia.org/wiki/Овербукинг). Тогда тип номера, присвоенного клиенту (см.колонку `assigned_room_type`), будет отличаться от изначально забронированного (см.колонку `reserved_room_type`). **Посчитайте, сколько подобных наблюдений встретилось в датасете?** Отмена бронирования также считается."
   ]
  },
  {
   "cell_type": "markdown",
   "metadata": {
    "id": "w27cKCE8bq3_"
   },
   "source": [
    "Шаги выполнения:\n",
    "1. Отберите строки, где значения в колонке `assigned_room_type` не совпадают со значениями в колонке `reserved_room_type`"
   ]
  },
  {
   "cell_type": "markdown",
   "metadata": {
    "id": "UNQfmWbLbq3_"
   },
   "source": [
    "<details>\n",
    "<summary>&#9658; Нажмите сюда, чтобы увидеть подсказку</summary>\n",
    "  <p>\n",
    "\n",
    "Чтобы отобрать только нужные записи, примените к датафрейму метод `query()`, внутри которого напишите строку с условием, что значение в колонке `assigned_room_type` не равно значению в колонке `reserved_room_type`.\n",
    "\n",
    "Как использовать метод `query()`? Например, отберем строки датафрейма `df`, где в колонке `col_name` значение равно 5:\n",
    "\n",
    "```python\n",
    "df.query('col_name == 5')\n",
    "```      \n",
    "\n",
    "Учтите, что условие нужно писать в кавычках, а названия колонок — без кавычек.\n",
    "      \n",
    "Помните, что один знак равно означает присвоение, два знака равно — проверку на равенство, а восклицательный знак вместе со знаком равно — проверку на неравенство.\n",
    "      \n",
    "</p>\n",
    "</details>"
   ]
  },
  {
   "cell_type": "code",
   "execution_count": 87,
   "metadata": {
    "id": "fBM-xmSSbq4A"
   },
   "outputs": [
    {
     "data": {
      "text/plain": [
       "14917"
      ]
     },
     "execution_count": 87,
     "metadata": {},
     "output_type": "execute_result"
    }
   ],
   "source": [
    "diff = bookings.loc[bookings.assigned_room_type != bookings.reserved_room_type][['assigned_room_type', 'reserved_room_type']]\n",
    "diff.shape\n",
    "len(diff)\n",
    "\n",
    "#diff2 = bookings.loc[bookings.assigned_room_type == bookings.reserved_room_type][['assigned_room_type', 'reserved_room_type']]\n",
    "#diff2\n",
    "\n",
    "diff3 = len(bookings.query('assigned_room_type != reserved_room_type'))\n",
    "diff3\n",
    "\n",
    "\n"
   ]
  },
  {
   "cell_type": "markdown",
   "metadata": {
    "id": "C6IqS_5vbq4A"
   },
   "source": [
    "2. Посчитайте количество оставшихся строк"
   ]
  },
  {
   "cell_type": "markdown",
   "metadata": {
    "id": "ajp_fsehbq4A"
   },
   "source": [
    "<details>\n",
    "<summary>&#9658; Нажмите сюда, чтобы увидеть подсказку</summary>\n",
    "  <p>\n",
    "      \n",
    "Используйте атрибут `shape`. Он возвращает кортеж, первый элемент которого указывает на количество строк, а второй — на количество столбцов в датафрейме.  \n",
    "\n",
    "Для обращения к атрибуту датафрейма нужно написать переменную, где хранится датафрейм, поставить точку и написать название атрибута (без скобок!). Например:\n",
    "```python\n",
    "df.some_attribute\n",
    "```\n",
    "Так мы обратимся к атрибуту `some_attribute` у датафрейма в переменной `df`.\n",
    "</p>\n",
    "</details>"
   ]
  },
  {
   "cell_type": "code",
   "execution_count": null,
   "metadata": {
    "id": "Qr3r81eCbq4A"
   },
   "outputs": [],
   "source": [
    "# Ваш код здесь\n",
    "\n"
   ]
  },
  {
   "cell_type": "markdown",
   "metadata": {
    "id": "YBQIQA6Lbq4C"
   },
   "source": [
    "## Шаг 9"
   ]
  },
  {
   "cell_type": "markdown",
   "metadata": {
    "id": "EmfW8vQgbq4C"
   },
   "source": [
    "Если у спроса на услугу есть сезонность, компании стоит это учесть. Проанализируйте даты запланированного прибытия (см.колонку `arrival_date_year`) и **определите, на какой месяц чаще всего оформляли бронь в 2016 году? Изменился ли самый популярный месяц в 2017?**"
   ]
  },
  {
   "cell_type": "markdown",
   "metadata": {
    "id": "tJSd0MJibq4C"
   },
   "source": [
    "Шаги выполнения:\n",
    "1. Сгруппируйте данные по годам и посчитайте, сколько раз внутри года встречается каждый месяц"
   ]
  },
  {
   "cell_type": "markdown",
   "metadata": {
    "id": "Z35QvPKMbq4C"
   },
   "source": [
    "<details>\n",
    "<summary>&#9658; Нажмите сюда, чтобы увидеть подсказку</summary>\n",
    "  <p>\n",
    "\n",
    "**Сгруппируйте данные по столбцу `arrival_date_year`, используя метод `groupby()`**. Его вызов группирует строки по значениям в какой-то колонке (или комбинации значений из нескольких колонок). Например,\n",
    "```python\n",
    "df.groupby('month')\n",
    "```\n",
    "сгруппирует данные датафрейма `df` по колонке `month`. Сама по себе группировка не вычисляет что-то по группам.\n",
    "\n",
    "**После группировки используйте метод `value_counts()`, применив его к столбцу `arrival_date_month`**. Этот метод возвращает серию, где индексы — это уникальные значения из столбца, а значения — это частота их встречаемости. По умолчанию метод располагает записи по убыванию частоты (то есть от большего значения к меньшему).\n",
    "\n",
    "**Как использовать метод?** Применим метод `some_method()` к колонке `column_name` датафрейма `df`:\n",
    "```python\n",
    "df.column_name.some_method()\n",
    "```\n",
    "\n",
    "**Как использовать метод сразу после группировки?** Применим метод `some_method()` к колонке `column_name_2` после группировки по столбцу `column_name_1` датафрейма `df`:\n",
    "```python\n",
    "df.groupby('column_name_1').column_name_2.some_method()\n",
    "```      \n",
    "</p>\n",
    "</details>"
   ]
  },
  {
   "cell_type": "code",
   "execution_count": 112,
   "metadata": {
    "id": "fhgu7dkebq4D"
   },
   "outputs": [
    {
     "data": {
      "text/plain": [
       "0    May\n",
       "dtype: object"
      ]
     },
     "execution_count": 112,
     "metadata": {},
     "output_type": "execute_result"
    }
   ],
   "source": [
    "month_2016 = bookings.loc[bookings.arrival_date_year == 2016].groupby('arrival_date_month').size()\n",
    "\n",
    "#month_2016\n",
    "#October\n",
    "\n",
    "month_2017 = bookings.loc[bookings.arrival_date_year == 2017].groupby('arrival_date_month').size()\n",
    "\n",
    "#month_2017\n",
    "#Ma\n",
    "\n",
    "bookings.groupby('arrival_date_year').arrival_date_month.value_counts()\n",
    "bookings.groupby('arrival_date_year').arrival_date_month.agg(pd.Series.mode)\n",
    "\n",
    "bookings.loc[bookings.arrival_date_year == 2016].arrival_date_month.mode()   #самое частое значение\n",
    "bookings.loc[bookings.arrival_date_year == 2017].arrival_date_month.mode()"
   ]
  },
  {
   "cell_type": "markdown",
   "metadata": {
    "id": "5_8jUJt-bq4D"
   },
   "source": [
    "2. Посмотрите, в каком месяце было больше всего бронирований в 2016 году. А в 2017?"
   ]
  },
  {
   "cell_type": "markdown",
   "metadata": {
    "id": "RQltKeuibq4K"
   },
   "source": [
    "## Шаг 10"
   ]
  },
  {
   "cell_type": "markdown",
   "metadata": {
    "id": "5EsY__TFbq4K"
   },
   "source": [
    "Продолжим изучать бронирования. **Выясните, в каком месяце каждого года бронирования отеля типа City Hotel отменялись чаще всего.**"
   ]
  },
  {
   "cell_type": "markdown",
   "metadata": {
    "id": "ME_USuz5bq4L"
   },
   "source": [
    "Шаги выполнения:\n",
    "1. Оставьте только записи об отмененных бронированиях (см.колонку `is_canceled`) отеля типа City Hotel (см.колонку `hotel`)"
   ]
  },
  {
   "cell_type": "markdown",
   "metadata": {
    "id": "H26CrkWzbq4L"
   },
   "source": [
    "<details>\n",
    "<summary>&#9658; Нажмите сюда, чтобы увидеть подсказку</summary>\n",
    "  <p>\n",
    "\n",
    "Чтобы отобрать только нужные записи, примените к датафрейму метод `query()`, внутри которого напишите строку с двойным условием: значение в колонке `is_canceled` равно 1 и тип отеля в колонке `hotel` — City Hotel.\n",
    "\n",
    "Как использовать метод `query()`? Например, отберем строки датафрейма `df`, где в колонке `col_1` значение равно 5 или в колонке `col_2` значение не равно `some_string`:\n",
    "\n",
    "```python\n",
    "df.query('col_1 == 5 or col_2 != \"some_string\"')\n",
    "```      \n",
    "      \n",
    "Между условиями поставьте логический оператор: `and` (или `&`), если оба условия обязательно должны выполняться. Или оператор `or` (или `|`), если должно выполняться хотя бы одно из условий.\n",
    "      \n",
    "Учтите, что оба условия нужно писать в единых кавычках, а каждое условие и названия колонок — без кавычек. Целые числа также пишутся без кавычек, а строки — в кавычках (двойных или одинарных — главное, не тех, в которые взяты оба условия).\n",
    "      \n",
    "Помните, что один знак равно означает присвоение, а два — проверку на равенство.\n",
    "      \n",
    "</p>\n",
    "</details>"
   ]
  },
  {
   "cell_type": "code",
   "execution_count": 123,
   "metadata": {
    "id": "Sabg4A8Lbq4L"
   },
   "outputs": [
    {
     "data": {
      "text/plain": [
       "arrival_date_year\n",
       "2015    September\n",
       "2016      October\n",
       "2017          May\n",
       "Name: arrival_date_month, dtype: object"
      ]
     },
     "execution_count": 123,
     "metadata": {},
     "output_type": "execute_result"
    }
   ],
   "source": [
    "answer = bookings.query('is_canceled == 1 and hotel == \"City Hotel\"')\n",
    "answer.head()\n",
    "answer.groupby(['arrival_date_year']).arrival_date_month.agg(pd.Series.mode)\n",
    "\n"
   ]
  },
  {
   "cell_type": "markdown",
   "metadata": {
    "id": "lrCCfJ__bq4L"
   },
   "source": [
    "2. Сгруппируйте оставшиеся данные по годам и посчитайте количество записей для каждого месяца внутри года"
   ]
  },
  {
   "cell_type": "markdown",
   "metadata": {
    "id": "tzgg5bikbq4M"
   },
   "source": [
    "<details>\n",
    "<summary>&#9658; Нажмите сюда, чтобы увидеть подсказку</summary>\n",
    "  <p>\n",
    "\n",
    "**Сгруппируйте данные по столбцу `arrival_date_year`, используя метод `groupby()`**. Его вызов группирует строки по значениям в какой-то колонке (или комбинации значений из нескольких колонок). Например,\n",
    "```python\n",
    "df.groupby('month')\n",
    "```\n",
    "сгруппирует данные датафрейма `df` по колонке `month`. Сама по себе группировка не вычисляет что-то по группам.\n",
    "\n",
    "**После группировки используйте метод `value_counts()`, применив его к столбцу `arrival_date_month`**. Этот метод возвращает серию, где индексы — это уникальные значения из столбца, а значения — это частота их встречаемости. По умолчанию метод располагает записи по убыванию частоты (то есть от большего значения к меньшему).\n",
    "\n",
    "**Как использовать метод?** Применим метод `some_method()` к колонке `column_name` датафрейма `df`:\n",
    "```python\n",
    "df.column_name.some_method()\n",
    "```\n",
    "\n",
    "**Как использовать метод сразу после группировки?** Применим метод `some_method()` к колонке `column_name_2` после группировки по столбцу `column_name_1` датафрейма `df`:\n",
    "```python\n",
    "df.groupby('column_name_1').column_name_2.some_method()\n",
    "```      \n",
    "</p>\n",
    "</details>"
   ]
  },
  {
   "cell_type": "code",
   "execution_count": null,
   "metadata": {
    "id": "X42DsJJMbq4M"
   },
   "outputs": [],
   "source": [
    "# Ваш код здесь\n",
    "\n"
   ]
  },
  {
   "cell_type": "markdown",
   "metadata": {
    "id": "NupAnyYUbq4M"
   },
   "source": [
    "3. Посмотрите, в каком месяце бронирования City Hotel отменялись чаще всего в 2015? 2016? 2017?"
   ]
  },
  {
   "cell_type": "markdown",
   "metadata": {
    "id": "ymlZ0EpZbq4N"
   },
   "source": [
    "## Шаг 11"
   ]
  },
  {
   "cell_type": "markdown",
   "metadata": {
    "id": "wrgPlP9Ubq4N"
   },
   "source": [
    "Теперь посмотрим на наших клиентов с точки зрения их возраста. **Какая из колонок `adults`, `children` и `babies` имеет наибольшее среднее значение?**"
   ]
  },
  {
   "cell_type": "markdown",
   "metadata": {
    "id": "CM3KaGYzbq4N"
   },
   "source": [
    "Шаги выполнения:\n",
    "1. Оставьте в датафрейме только 3 колонки:  `adults`, `children` и `babies`"
   ]
  },
  {
   "cell_type": "markdown",
   "metadata": {
    "id": "UDC0H-qObq4O"
   },
   "source": [
    "<details>\n",
    "<summary>&#9658; Нажмите сюда, чтобы увидеть подсказку</summary>\n",
    "  <p>\n",
    "\n",
    "Обратитесь только к трем колонкам датафрейма, передав их список в квадратные скобки. Например,\n",
    "```python\n",
    "df[['col1', 'col2']]\n",
    "```\n",
    "вернет только две колонки датафрейма `df`. Обратите внимание на двойные квадратные скобки.\n",
    "   \n",
    "</p>\n",
    "</details>"
   ]
  },
  {
   "cell_type": "code",
   "execution_count": 127,
   "metadata": {
    "id": "UJ6SBlxwbq4O"
   },
   "outputs": [
    {
     "data": {
      "text/plain": [
       "adults      1.856403\n",
       "children    0.103890\n",
       "babies      0.007949\n",
       "dtype: float64"
      ]
     },
     "execution_count": 127,
     "metadata": {},
     "output_type": "execute_result"
    }
   ],
   "source": [
    "temp = bookings[['adults', 'children', 'babies']]\n",
    "\n",
    "temp.describe()\n",
    "temp.mean()  #cреднее значение по столбцам"
   ]
  },
  {
   "cell_type": "markdown",
   "metadata": {
    "id": "qU0pSCNHbq4O"
   },
   "source": [
    "2. Посчитайте средние значения для оставшихся колонок"
   ]
  },
  {
   "cell_type": "markdown",
   "metadata": {
    "id": "L70MdOGTbq4O"
   },
   "source": [
    "<details>\n",
    "<summary>&#9658; Нажмите сюда, чтобы увидеть подсказку</summary>\n",
    "  <p>\n",
    "\n",
    "Примените к датафрейму из 3 колонок метод `mean()`, который считает среднее значение.\n",
    "\n",
    "**Как использовать метод?** Например применим метод `some_method()` к датафрейму `df`:\n",
    "```python\n",
    "df.some_method()\n",
    "```\n",
    "</p>\n",
    "</details>"
   ]
  },
  {
   "cell_type": "code",
   "execution_count": null,
   "metadata": {
    "id": "glu_-rlLbq4O"
   },
   "outputs": [],
   "source": [
    "# Ваш код здесь\n",
    "\n"
   ]
  },
  {
   "cell_type": "markdown",
   "metadata": {
    "id": "jmGJegtUbq4O"
   },
   "source": [
    "3. Посмотрите, среднее значение в какой колонке больше других?"
   ]
  },
  {
   "cell_type": "markdown",
   "metadata": {
    "id": "owUfVVjAbq4P"
   },
   "source": [
    "<details>\n",
    "<summary>&#9658; Нажмите сюда, чтобы увидеть подсказку</summary>\n",
    "  <p>\n",
    "\n",
    "Это можно сделать, посмотрев на значения глазами — код здесь не нужен.\n",
    "      \n",
    "Если вас смущает, что получились дробные числа и не может быть условно «полтора человека», то помните, что это среднее значение, поэтому числа могут не быть целыми. В дальнейшем для принятия некоторых бизнес-решений их можно будет округлить до целого, но это требуется не всегда.\n",
    "</p>\n",
    "</details>"
   ]
  },
  {
   "cell_type": "markdown",
   "metadata": {
    "id": "U1XK-CDlbq4P"
   },
   "source": [
    "## Шаг 12"
   ]
  },
  {
   "cell_type": "markdown",
   "metadata": {
    "id": "UdaNlXNkbq4P"
   },
   "source": [
    "В наших данных информация о количестве детей записана в две колонки: `children` и `babies`. Это удобно, если нам нужно знать примерный возраст маленьких гостей, но неудобно, если нам требуется просто общее число детей. Для этого создайте колонку `total_kids`, объединив столбцы `children` и `babies`.\n",
    "\n",
    "После того проверьте, для отелей какого типа среднее значение этой переменной оказалось наибольшим, для City hotel или Resort hotel. **В качестве ответа укажите наибольшее среднее `total_kids`, округлив до двух знаков после точки**."
   ]
  },
  {
   "cell_type": "markdown",
   "metadata": {
    "id": "dwm-NQ_ebq4Q"
   },
   "source": [
    "Шаги выполнения:\n",
    "1. Создайте колонку `total_kids`, сложив значения в столбцах `children` и `babies`"
   ]
  },
  {
   "cell_type": "markdown",
   "metadata": {
    "id": "vdPyKl9Wbq4Q"
   },
   "source": [
    "<details>\n",
    "<summary>&#9658; Нажмите сюда, чтобы увидеть подсказку</summary>\n",
    "  <p>\n",
    "\n",
    "**Как создать новую колонку?** достаточно написать такой код:\n",
    "```python\n",
    "df['new_column'] = some_value\n",
    "```\n",
    "где `df` - датафрейм, `new_column` - название новой колонки, `some_value` - то, чему будет равна колонка (это может быть одно число или колонка датафрейма, где число элементов такое же как число строк в `df`)\n",
    "      \n",
    "**Как сложить значения в двух колонках?** Арифметические операции с пандасовскимии колонками делаются очень просто - прямо как с питоновскими числами. Например, этот код:\n",
    "```python\n",
    "df.column1 * df.column2\n",
    "```\n",
    "умножит все значения из колонки `column1` датафрейма `df` на соответствующие элементы колонки `column2`. Число элементов в обеих колонках должно быть одинаковым\n",
    "</p>\n",
    "</details>"
   ]
  },
  {
   "cell_type": "code",
   "execution_count": 132,
   "metadata": {
    "id": "Yz9CuVkFbq4Q"
   },
   "outputs": [
    {
     "data": {
      "text/plain": [
       "0         0.0\n",
       "1         0.0\n",
       "2         0.0\n",
       "3         0.0\n",
       "4         0.0\n",
       "         ... \n",
       "119385    0.0\n",
       "119386    0.0\n",
       "119387    0.0\n",
       "119388    0.0\n",
       "119389    0.0\n",
       "Length: 119390, dtype: float64"
      ]
     },
     "execution_count": 132,
     "metadata": {},
     "output_type": "execute_result"
    }
   ],
   "source": [
    "bookings.total_kids  = bookings.children + bookings.babies\n",
    "bookings.total_kids\n"
   ]
  },
  {
   "cell_type": "markdown",
   "metadata": {
    "id": "JZz_QY4Qbq4Q"
   },
   "source": [
    "2. Сгруппируйте данные по типу отеля и посчитайте для каждой группы среднее количество детей"
   ]
  },
  {
   "cell_type": "markdown",
   "metadata": {
    "id": "7MEWT6Jxbq4Q"
   },
   "source": [
    "<details>\n",
    "<summary>&#9658; Нажмите сюда, чтобы увидеть подсказку</summary>\n",
    "  <p>\n",
    "\n",
    "**Сгруппируйте данные по столбцу `hotel`, используя метод `groupby()`**. Его вызов группирует строки по значениям в какой-то колонке (или комбинации значений из нескольких колонок). Например,\n",
    "\n",
    "```python\n",
    "df.groupby('month')\n",
    "```\n",
    "сгруппирует данные датафрейма `df` по колонке `month`. Сама по себе группировка не вычисляет что-то по группам.\n",
    "\n",
    "**После группировки используйте метод `agg()`, в котором примените агрегирующую функцию `mean` к столбцу `total_kids`**. Тогда этот метод посчитает среднее всех значений в указанном столбце.\n",
    "\n",
    "**Как использовать метод `agg()`?** Например применим его к датафрейму `df` и посчитаем сумму по столбцу `column_name`:\n",
    "```python\n",
    "df.agg({'column_name':'sum'})\n",
    "```\n",
    "\n",
    "**Как использовать метод `agg()` после группировки?** Используйте цепочку методов, применив их друг за другом. Например:\n",
    "```python\n",
    "df.some_method_1().some_method_2()\n",
    "```      \n",
    "</p>\n",
    "</details>"
   ]
  },
  {
   "cell_type": "code",
   "execution_count": 146,
   "metadata": {
    "id": "odQIFv7Ybq4Q"
   },
   "outputs": [
    {
     "data": {
      "text/plain": [
       "hotel\n",
       "City Hotel      0.10\n",
       "Resort Hotel    0.14\n",
       "Name: total_kids, dtype: float64"
      ]
     },
     "execution_count": 146,
     "metadata": {},
     "output_type": "execute_result"
    }
   ],
   "source": [
    "bookings[\"total_kids\"]  = bookings.children + bookings.babies\n",
    "bookings.columns\n",
    "total_kids_hotel = bookings.groupby('hotel').total_kids.mean().round(2)\n",
    "total_kids_hotel\n"
   ]
  },
  {
   "cell_type": "markdown",
   "metadata": {
    "id": "BwFgaDjtbq4R"
   },
   "source": [
    "3. Округлите результаты до двух знаков после точки"
   ]
  },
  {
   "cell_type": "markdown",
   "metadata": {
    "id": "6DUVYzkBbq4R"
   },
   "source": [
    "<details>\n",
    "<summary>&#9658; Нажмите сюда, чтобы увидеть подсказку</summary>\n",
    "  <p>\n",
    "\n",
    "Используйте метод `round()`, который округляет значения во всех или только в указанных колонках датафрейма. По умолчанию округление идет до целого числа. Чтобы задать нужное число знаков после точки, передайте в метод аргумент — целое число. Применим метод к колонке `column_name` датафрейма `df`, задав округление до пяти знаков после точки:\n",
    "```python\n",
    "df.column_name.round(5)\n",
    "```\n",
    "\n",
    "</p>\n",
    "</details>"
   ]
  },
  {
   "cell_type": "code",
   "execution_count": null,
   "metadata": {
    "id": "MOTerI5Gbq4R"
   },
   "outputs": [],
   "source": [
    "# Ваш код здесь\n",
    "\n"
   ]
  },
  {
   "cell_type": "markdown",
   "metadata": {
    "id": "P1jItuU2bq4R"
   },
   "source": [
    "4. Посмотрите, для отелей какого типа среднее значение оказалось наибольшим? Чему равно это значение?"
   ]
  },
  {
   "cell_type": "markdown",
   "metadata": {
    "id": "fJ61vrgDbq4R"
   },
   "source": [
    "<details>\n",
    "<summary>&#9658; Нажмите сюда, чтобы увидеть подсказку</summary>\n",
    "  <p>\n",
    "\n",
    "Это можно сделать, посмотрев на значения глазами — код здесь не нужен.\n",
    "      \n",
    "Если вас смущает, что получились дробные числа и не может быть условно «полтора человека», то помните, что это среднее значение, поэтому числа могут не быть целыми. В дальнейшем для принятия некоторых бизнес-решений их можно будет округлить до целого, но это требуется не всегда.\n",
    "</p>\n",
    "</details>"
   ]
  },
  {
   "cell_type": "markdown",
   "metadata": {
    "id": "eZr-mGKebq4S"
   },
   "source": [
    "## Шаг 13"
   ]
  },
  {
   "cell_type": "markdown",
   "metadata": {
    "id": "QCMr3DpIbq4S"
   },
   "source": [
    "Бизнес не любит упускать прибыль, но не все бронирования завершились успешно (см.колонку `is_canceled`), поэтому попробуем посчитать, сколько клиентов было потеряно в процессе. Иными словами, посчитаем метрику под названием Churn Rate.\n",
    "\n",
    "**Churn rate** (отток, коэффициент оттока) – это процент подписчиков, которые отписались от канала коммуникации, отказались от услуг сервиса в течение определенного периода времени. Т.е. представляет собой отношение количества ушедших пользователей к общему количеству пользователей, выраженное в процентах. Если Churn rate считают для какой-то определенной группы, то и количество ушедших пользователей, и общее количество пользователей считают только по этой группе.\n",
    "\n",
    "В нашем случае Churn Rate — это процент клиентов, которые отменили бронирование. Давайте посмотрим, как эта метрика связана с наличием детей у клиентов. **Посчитайте Churn Rate дважды: для клиентов с детьми и для клиентов без детей. В качестве ответа укажите наибольший Churn Rate (% оттока), округленный до двух знаков после точки** (то есть доля 0.24563 будет 24.56% и в ответ пойдёт 24.56)"
   ]
  },
  {
   "cell_type": "markdown",
   "metadata": {
    "id": "_Zkk_Dgnbq4T"
   },
   "source": [
    "Шаги выполнения:  \n",
    "1. Создайте колонку `has_kids`, которая принимает значение True, если клиент при бронировании указал хотя бы одного ребенка (см.созданную на прошлом шаге колонку `total_kids`), в противном случае – False"
   ]
  },
  {
   "cell_type": "markdown",
   "metadata": {
    "id": "m9LGD06_bq4T"
   },
   "source": [
    "<details>\n",
    "<summary>&#9658; Нажмите сюда, чтобы увидеть подсказку</summary>\n",
    "  <p>\n",
    "\n",
    "**Как создать новую колонку?** достаточно написать такой код:\n",
    "```python\n",
    "df['new_column'] = some_value\n",
    "```\n",
    "где `df` - датафрейм, `new_column` - название новой колонки, `some_value` - то, чему будет равна колонка (это может быть логическое выражение, которое будет истинно или ложно)\n",
    "      \n",
    "**Как получить значение True или False?** Логические действия с колонками выполняются по аналогии с арифметическими, просто вместо арифметических операторов - логические. Например, этот код:\n",
    "```python\n",
    "df.column1 != df.column2\n",
    "```\n",
    "Выдаст колонку с `True` и `False` напротив каждого значения. `True`, если соответствующее значение в колонке `column1` не равно значению из колонки `column2`. Вместо значений в колонке `column2` можно использовать числа или строки\n",
    "</p>\n",
    "</details>"
   ]
  },
  {
   "cell_type": "code",
   "execution_count": 168,
   "metadata": {
    "id": "zRrTQybLbq4T"
   },
   "outputs": [
    {
     "data": {
      "text/plain": [
       "0.37"
      ]
     },
     "execution_count": 168,
     "metadata": {},
     "output_type": "execute_result"
    }
   ],
   "source": [
    "bookings[\"has_kids\"] = bookings.total_kids != 0\n",
    "bookings[\"has_kids\"].value_counts()\n",
    "\n",
    "loc_has_kids = bookings.loc[bookings.has_kids == True]\n",
    "loc_has_no_kids = bookings.loc[bookings.has_kids == False]\n",
    "churn_rate_with_children = round(len(loc_has_kids.query('is_canceled == 1'))/len(loc_has_kids), 2) #0.35\n",
    "churn_rate_without_children = round(len(loc_has_no_kids.query('is_canceled == 1'))/len(loc_has_no_kids), 2) #0.37\n",
    "churn_rate_without_children\n"
   ]
  },
  {
   "cell_type": "markdown",
   "metadata": {
    "id": "zHAqJ1J5bq4T"
   },
   "source": [
    "2. Получите 4 датафрейма, отобрав только нужные записи для каждого:  \n",
    "1 — клиенты без детей, которые делали бронирование (не важно, отменяли его потом или нет)  \n",
    "2 — клиенты без детей, которые отменили бронирование  \n",
    "3, 4 — аналогичные два датафрейма для клиентов с детьми"
   ]
  },
  {
   "cell_type": "markdown",
   "metadata": {
    "id": "reorbOsabq4T"
   },
   "source": [
    "<details>\n",
    "<summary>&#9658; Нажмите сюда, чтобы увидеть подсказку</summary>\n",
    "  <p>\n",
    "\n",
    "Чтобы отобрать только нужные записи, примените к датафрейму метод `query()`.\n",
    "\n",
    "**Как использовать метод `query()`?** Например, отберем строки датафрейма `df`, где в колонке `col_1` значение равно 5 или в колонке `col_2` значение не равно `some_string`:\n",
    "\n",
    "```python\n",
    "df.query('col_1 == 5 or col_2 != \"some_string\"')\n",
    "```      \n",
    "\n",
    "**Как написать двойное условие?** Между условиями поставьте логический оператор: `and` (или `&`), если оба условия обязательно должны выполняться. Или оператор `or` (или `|`), если должно выполняться хотя бы одно из условий.\n",
    "      \n",
    "Учтите, что оба условия нужно писать в единых кавычках, а каждое условие и названия колонок — без кавычек. Целые числа и логическое значение `True` или `False` также пишутся без кавычек, а строки — в кавычках (двойных или одинарных — главное, не тех, в которые взяты оба условия).\n",
    "\n",
    "Помните, что один знак равно означает присвоение, два знака равно — проверку на равенство, а восклицательный знак вместе со знаком равно — проверку на неравенство.\n",
    "      \n",
    "**Как задать условия?** Для каждого из четырех датафреймов условие будет свое:  \n",
    "1 — клиенты без детей, которые делали бронирование (значение в колонке `has_kids` будет `False`)  \n",
    "2 — клиенты без детей, которые отменили бронирование (значение в колонке `is_canceled` равно 1 и значение в колонке `has_kids` будет `False`)  \n",
    "3 — клиенты с детьми, которые делали бронирование (значение в колонке `has_kids` будет `True`)  \n",
    "4 — клиенты с детьми, которые отменили бронирование (значение в колонке `is_canceled` равно 1 и значение в колонке `has_kids` будет `True`)\n",
    "      \n",
    "</p>\n",
    "</details>"
   ]
  },
  {
   "cell_type": "code",
   "execution_count": 170,
   "metadata": {
    "id": "8CFXaVVjbq4T"
   },
   "outputs": [],
   "source": [
    "df_no_kids = bookings.query('has_kids == False')\n",
    "df_no_kids_canceled = bookings.query('has_kids == False and is_canceled == 1')\n",
    "\n",
    "df_kids = bookings.query('has_kids == True')\n",
    "df_kids_canceled = bookings.query('has_kids == True and is_canceled == 1')\n",
    "\n"
   ]
  },
  {
   "cell_type": "markdown",
   "metadata": {
    "id": "dgA06fw-bq4U"
   },
   "source": [
    "3. Посчитайте количество записей в каждом из четырех датафреймов, чтобы получить число клиентов с теми или иными параметрами"
   ]
  },
  {
   "cell_type": "markdown",
   "metadata": {
    "id": "9daVla5Qbq4U"
   },
   "source": [
    "<details>\n",
    "<summary>&#9658; Нажмите сюда, чтобы увидеть подсказку</summary>\n",
    "  <p>\n",
    "      \n",
    "Используйте атрибут `shape`, который возвращает кортеж, первый элемент которого указывает на количество строк, а второй — на количество столбцов в датафрейме.  \n",
    "\n",
    "Для обращения к элементу атрибута датафрейма нужно написать переменную, где хранится датафрейм, поставить точку и написать название атрибута (без скобок!), после написать номер его элемента в квадратных скобках. Например:\n",
    "```python\n",
    "df.some_attribute[1]\n",
    "```\n",
    "так мы обратимся ко второму элементу атрибута `some_attribute` у датафрейма `df` (помните, что нумерация элементов начинается с нуля).\n",
    "</p>\n",
    "</details>"
   ]
  },
  {
   "cell_type": "code",
   "execution_count": 174,
   "metadata": {
    "id": "YbMCxE_Bbq4U"
   },
   "outputs": [
    {
     "data": {
      "text/plain": [
       "3263"
      ]
     },
     "execution_count": 174,
     "metadata": {},
     "output_type": "execute_result"
    }
   ],
   "source": [
    "df_no_kids_len = len(df_no_kids)   #110054\n",
    "df_no_kids_len\n",
    "\n",
    "df_no_kids_canceled_len = len(df_no_kids_canceled) #40961\n",
    "df_no_kids_canceled_len\n",
    "\n",
    "df_kids_len = len(df_kids)     #9336\n",
    "df_kids_len\n",
    "\n",
    "df_kids_canceled_len = len(df_kids_canceled)     #3263\n",
    "df_kids_canceled_len"
   ]
  },
  {
   "cell_type": "markdown",
   "metadata": {
    "id": "GCJfhoP9bq4V"
   },
   "source": [
    "4. Посчитайте Churn Rate клиентов без детей: разделите число клиентов без детей, которые отменили бронирование, на общее число клиентов без детей и переведите результат в проценты. По аналогии посчитайте Churn Rate клиентов с детьми"
   ]
  },
  {
   "cell_type": "markdown",
   "metadata": {
    "id": "4wjsTg45bq4V"
   },
   "source": [
    "<details>\n",
    "<summary>&#9658; Нажмите сюда, чтобы увидеть подсказку</summary>\n",
    "  <p>\n",
    "      \n",
    "Что на что нужно разделить и умножить? Для расчета Churn Rate клиентов без детей разделите число строк 2 датафрейма на число строк 1 датафрейма и умножьте результат на 100 — так получится % оттока.\n",
    "Для расчета Churn Rate клиентов с детьми разделите число строк 4 датафрейма на число строк 3 датафрейма и умножьте результат на 100.\n",
    "</p>\n",
    "</details>"
   ]
  },
  {
   "cell_type": "code",
   "execution_count": 178,
   "metadata": {
    "id": "FH2Zvrz_bq4V"
   },
   "outputs": [
    {
     "data": {
      "text/plain": [
       "34.95"
      ]
     },
     "execution_count": 178,
     "metadata": {},
     "output_type": "execute_result"
    }
   ],
   "source": [
    "ch_no_kids = round((df_no_kids_canceled_len / df_no_kids_len)*100, 2)  #37.22\n",
    "ch_no_kids\n",
    "\n",
    "ch_kids = round((df_kids_canceled_len / df_kids_len)*100, 2)        #34.95\n",
    "ch_kids\n",
    "\n"
   ]
  },
  {
   "cell_type": "markdown",
   "metadata": {
    "id": "bLzMoPYMbq4V"
   },
   "source": [
    "5. Округлите оба значения Churn Rate до двух знаков после точки"
   ]
  },
  {
   "cell_type": "markdown",
   "metadata": {
    "id": "UIrrWeHVbq4W"
   },
   "source": [
    "<details>\n",
    "<summary>&#9658; Нажмите сюда, чтобы увидеть подсказку</summary>\n",
    "  <p>\n",
    "\n",
    "Используйте `round()` — встроенную функцию python, которая округляет значение поданного в неё числа. По умолчанию округление идет до целого числа. Чтобы задать нужное число знаков после точки, передайте в функцию на втором месте аргумент — целое число. Например применим функцию к числу 12.345, задав округление до 1 знака после точки:\n",
    "```python\n",
    "round(12.345, 1)\n",
    "```\n",
    "в результате получим число 12.3\n",
    "</p>\n",
    "</details>"
   ]
  },
  {
   "cell_type": "code",
   "execution_count": null,
   "metadata": {
    "id": "lqZYfZvbbq4W"
   },
   "outputs": [],
   "source": [
    "# Ваш код здесь\n",
    "\n"
   ]
  },
  {
   "cell_type": "markdown",
   "metadata": {
    "id": "P-_kmeDqbq4W"
   },
   "source": [
    "6. Посмотрите, какое из значений Churn rate больше: у клиентов с детьми или у клиентов без детей? Чему равно это значение?"
   ]
  },
  {
   "cell_type": "markdown",
   "metadata": {
    "id": "bMsObSczbq4X"
   },
   "source": [
    "<details>\n",
    "<summary>&#9658; Нажмите сюда, чтобы увидеть подсказку</summary>\n",
    "  <p>\n",
    "\n",
    "Это можно сделать, посмотрев на значения глазами — код здесь не нужен.\n",
    "</p>\n",
    "</details>"
   ]
  },
  {
   "cell_type": "markdown",
   "metadata": {
    "id": "f0o64Pb-bq4Y"
   },
   "source": [
    "## Итоги"
   ]
  },
  {
   "cell_type": "markdown",
   "metadata": {
    "id": "n0CbV09Ebq4Y"
   },
   "source": [
    "В этом проекте вы проанализировали данные о бронированиях и закрепили навыки работы с библиотекой pandas, а также узнали новые подходы к переименованию колонок и округлению значений, познакомились с метрикой Churn Rate."
   ]
  }
 ],
 "metadata": {
  "colab": {
   "provenance": []
  },
  "kernelspec": {
   "display_name": "Python 3",
   "language": "python",
   "name": "python3"
  },
  "language_info": {
   "codemirror_mode": {
    "name": "ipython",
    "version": 3
   },
   "file_extension": ".py",
   "mimetype": "text/x-python",
   "name": "python",
   "nbconvert_exporter": "python",
   "pygments_lexer": "ipython3",
   "version": "3.7.3"
  }
 },
 "nbformat": 4,
 "nbformat_minor": 1
}
