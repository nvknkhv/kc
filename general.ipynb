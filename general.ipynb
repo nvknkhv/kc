{
 "cells": [
  {
   "metadata": {},
   "cell_type": "markdown",
   "source": [
    "#### Считывание csv\n",
    "- encoding - кодировка ('utf-8', 'ISO-8859-1', 'Windows-1251' и др)\n",
    "- sep - разделитель (по умолчанию ',')\n",
    "- compression - метод сжатия для архивов\n",
    "- parse_dates - стоит ли воспринимать даты как даты (по-умолчанию pandas воспринимает как строки).\\n\n",
    "    parse_dates = True - в дату переводится первая колонка или можно указать массив колонок\n",
    "\n"
   ],
   "id": "b2ae69fb61635156"
  },
  {
   "metadata": {
    "ExecuteTime": {
     "end_time": "2025-04-14T17:57:30.515172Z",
     "start_time": "2025-04-14T17:57:29.877276Z"
    }
   },
   "cell_type": "code",
   "source": [
    "import pandas as pd\n",
    "data  = pd.read_csv('data/6_data.zip', compression='zip', encoding='ISO-8859-1')"
   ],
   "id": "d7b1e188f4660aea",
   "outputs": [],
   "execution_count": 1
  },
  {
   "metadata": {},
   "cell_type": "code",
   "outputs": [],
   "execution_count": null,
   "source": "",
   "id": "e17931460053d0a2"
  }
 ],
 "metadata": {
  "kernelspec": {
   "display_name": "Python 3",
   "language": "python",
   "name": "python3"
  },
  "language_info": {
   "codemirror_mode": {
    "name": "ipython",
    "version": 2
   },
   "file_extension": ".py",
   "mimetype": "text/x-python",
   "name": "python",
   "nbconvert_exporter": "python",
   "pygments_lexer": "ipython2",
   "version": "2.7.6"
  }
 },
 "nbformat": 4,
 "nbformat_minor": 5
}
