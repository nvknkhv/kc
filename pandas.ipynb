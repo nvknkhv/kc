{
 "cells": [
  {
   "metadata": {
    "ExecuteTime": {
     "end_time": "2025-04-14T12:34:09.620934Z",
     "start_time": "2025-04-14T12:33:55.165616Z"
    }
   },
   "cell_type": "code",
   "source": "import pandas as pd",
   "id": "c72260317c5323bd",
   "outputs": [],
   "execution_count": 1
  },
  {
   "metadata": {},
   "cell_type": "markdown",
   "source": [
    "\n",
    "#### Считывание csv\n",
    "- encoding - кодировка ('utf-8', 'ISO-8859-1', 'Windows-1251' и др)\n",
    "- sep - разделитель (по умолчанию ',')\n",
    "- compression - метод сжатия для архивов\n",
    "- parse_dates - стоит ли воспринимать даты как даты (по-умолчанию pandas воспринимает как строки).\\n\n",
    "    parse_dates = True - в дату переводится первая колонка или можно указать массив колонок"
   ],
   "id": "fab0d500b16992cd"
  },
  {
   "metadata": {
    "ExecuteTime": {
     "end_time": "2025-04-14T12:57:14.351732Z",
     "start_time": "2025-04-14T12:57:13.931783Z"
    }
   },
   "cell_type": "code",
   "source": "data  = pd.read_csv('data/6_data.zip', compression='zip', encoding='ISO-8859-1')",
   "id": "cca9a7414b5f2700",
   "outputs": [],
   "execution_count": 11
  },
  {
   "metadata": {},
   "cell_type": "markdown",
   "source": [
    "####  Первоначальные характеристики датафрейма\n",
    "- df.**shape** - размерность датафрема (row, column)\n",
    "- df.**head(n)** - первые n строчек из датафрейма (default=5)\n",
    "- df.**tail(n)** - последние n строчек из датафрейма (default=5)\n",
    "- df.**dtypes** - типы данных в столбцах датафрейма\n",
    "- df.**[имя колонки].dtype** - тип значений в конкретной колонке\n",
    "- df.**describe()** - рассчитывает базовые метрики для таблицы\n",
    "- df.**info** - информация о датафрейме (\n",
    "- df.**columns** - список колонок\n",
    "- df.**index** - список индексов\n",
    "- df[['column1', ''column2', 'column3']] - взять определенные столбцы из df"
   ],
   "id": "d9a30c4e4918ef9"
  },
  {
   "metadata": {
    "ExecuteTime": {
     "end_time": "2025-04-14T13:10:52.586303Z",
     "start_time": "2025-04-14T13:10:52.580444Z"
    }
   },
   "cell_type": "code",
   "source": "data.shape # число строк и столбцов в датафрейме",
   "id": "aa6d9079faf9560c",
   "outputs": [
    {
     "data": {
      "text/plain": [
       "(541909, 8)"
      ]
     },
     "execution_count": 18,
     "metadata": {},
     "output_type": "execute_result"
    }
   ],
   "execution_count": 18
  },
  {
   "metadata": {},
   "cell_type": "markdown",
   "source": [
    "#### Проверить типы данных в столбцах датафрейма и определить, какой тип данных преобладает\n",
    "1) Атрибут **dtypes**. Он возвращает серию, индексами которой являются названия столбцов, а значениями — тип данных в этих столбцах. Потом пробежаться глазами и посмотреть самый частый тип\n",
    "2) Применить к датафрейму метод **info()**, который выводит подробную информацию о датафрейме и его колонках. Смотрим на последнюю строчку, там будет инфа о всех типах, например,\n",
    "dtypes: float64(2), int64(1), object(5)"
   ],
   "id": "666f18292a243ded"
  },
  {
   "metadata": {
    "ExecuteTime": {
     "end_time": "2025-04-14T13:06:33.013932Z",
     "start_time": "2025-04-14T13:06:33.008159Z"
    }
   },
   "cell_type": "code",
   "source": "data.dtypes",
   "id": "2c592b41ad01cd9",
   "outputs": [
    {
     "data": {
      "text/plain": [
       "InvoiceNo       object\n",
       "StockCode       object\n",
       "Description     object\n",
       "Quantity         int64\n",
       "InvoiceDate     object\n",
       "UnitPrice      float64\n",
       "CustomerID     float64\n",
       "Country         object\n",
       "dtype: object"
      ]
     },
     "execution_count": 16,
     "metadata": {},
     "output_type": "execute_result"
    }
   ],
   "execution_count": 16
  },
  {
   "metadata": {
    "ExecuteTime": {
     "end_time": "2025-04-14T13:08:43.208634Z",
     "start_time": "2025-04-14T13:08:43.151962Z"
    }
   },
   "cell_type": "code",
   "source": "data.info()",
   "id": "49b1f1c5344d1e20",
   "outputs": [
    {
     "name": "stdout",
     "output_type": "stream",
     "text": [
      "<class 'pandas.core.frame.DataFrame'>\n",
      "RangeIndex: 541909 entries, 0 to 541908\n",
      "Data columns (total 8 columns):\n",
      " #   Column       Non-Null Count   Dtype  \n",
      "---  ------       --------------   -----  \n",
      " 0   InvoiceNo    541909 non-null  object \n",
      " 1   StockCode    541909 non-null  object \n",
      " 2   Description  540455 non-null  object \n",
      " 3   Quantity     541909 non-null  int64  \n",
      " 4   InvoiceDate  541909 non-null  object \n",
      " 5   UnitPrice    541909 non-null  float64\n",
      " 6   CustomerID   406829 non-null  float64\n",
      " 7   Country      541909 non-null  object \n",
      "dtypes: float64(2), int64(1), object(5)\n",
      "memory usage: 33.1+ MB\n"
     ]
    }
   ],
   "execution_count": 17
  },
  {
   "metadata": {},
   "cell_type": "markdown",
   "source": [
    "#### Переименование колонок\n",
    "Для переименования колонок передайте в метод `rename()` в параметр `columns` словарь, где ключами являются старые названия колонок, а значениями — новые названия."
   ],
   "id": "b102e979d974a4f1"
  },
  {
   "metadata": {
    "ExecuteTime": {
     "end_time": "2025-04-14T13:17:53.482124Z",
     "start_time": "2025-04-14T13:17:53.443605Z"
    }
   },
   "cell_type": "code",
   "source": [
    "data = data.rename(columns={'old_name': 'new_name'})\n",
    "#data.columns"
   ],
   "id": "cd4fc73b75dea91a",
   "outputs": [],
   "execution_count": 20
  },
  {
   "metadata": {},
   "cell_type": "markdown",
   "source": "",
   "id": "b809025d459b01d7"
  },
  {
   "metadata": {},
   "cell_type": "markdown",
   "source": [
    "#### Разные методы работы со столбцами\n",
    "- df.column.**value_counts()** - число записей по каждому значению для колонки. По умолчанию в порядке убывания (**ascending=False**)\n",
    "- df.column.**sum()** - сумма всех значений в столбце\n",
    "- df.**sort_values('column', ascending=False)** - сортировка строк по значению в колонке column"
   ],
   "id": "6ee54e21342ae1d"
  },
  {
   "metadata": {
    "ExecuteTime": {
     "end_time": "2025-04-14T13:26:10.086271Z",
     "start_time": "2025-04-14T13:26:10.046903Z"
    }
   },
   "cell_type": "code",
   "source": "data.Country.value_counts()",
   "id": "fbe22caf9b8c6a8a",
   "outputs": [
    {
     "data": {
      "text/plain": [
       "Country\n",
       "United Kingdom          495478\n",
       "Germany                   9495\n",
       "France                    8557\n",
       "EIRE                      8196\n",
       "Spain                     2533\n",
       "Netherlands               2371\n",
       "Belgium                   2069\n",
       "Switzerland               2002\n",
       "Portugal                  1519\n",
       "Australia                 1259\n",
       "Norway                    1086\n",
       "Italy                      803\n",
       "Channel Islands            758\n",
       "Finland                    695\n",
       "Cyprus                     622\n",
       "Sweden                     462\n",
       "Unspecified                446\n",
       "Austria                    401\n",
       "Denmark                    389\n",
       "Japan                      358\n",
       "Poland                     341\n",
       "Israel                     297\n",
       "USA                        291\n",
       "Hong Kong                  288\n",
       "Singapore                  229\n",
       "Iceland                    182\n",
       "Canada                     151\n",
       "Greece                     146\n",
       "Malta                      127\n",
       "United Arab Emirates        68\n",
       "European Community          61\n",
       "RSA                         58\n",
       "Lebanon                     45\n",
       "Lithuania                   35\n",
       "Brazil                      32\n",
       "Czech Republic              30\n",
       "Bahrain                     19\n",
       "Saudi Arabia                10\n",
       "Name: count, dtype: int64"
      ]
     },
     "execution_count": 23,
     "metadata": {},
     "output_type": "execute_result"
    }
   ],
   "execution_count": 23
  },
  {
   "metadata": {},
   "cell_type": "markdown",
   "source": [
    "#### Группировка и агрегация данных\n",
    "Для агрегации используется метод **agg**, обычно его используют сразу после группировки через **groupby**.\n",
    "В результате агрерации из массива значений (колонка) получается одно значение на каждую агрегирующую функцию.\n",
    "1) Если использовать перадачу в **agg** значений через словарь, то результат будет **датафреймом**.\n",
    "Словарь вида\n",
    "```[колонка для группировки]: функция, которую применяем к значениям этой колонки```\n",
    "\n",
    "**groupby**('column', **as_index = False**) - позволяет не делать колонку индексом в датафрейме после группировки."
   ],
   "id": "cdbf90e7db5f3cc"
  },
  {
   "metadata": {
    "ExecuteTime": {
     "end_time": "2025-04-14T13:48:04.448184Z",
     "start_time": "2025-04-14T13:48:04.395259Z"
    }
   },
   "cell_type": "code",
   "source": "data.groupby('Country', as_index = False).agg({'InvoiceNo': 'count'})   #количество заказов, сгруппированных по стране",
   "id": "bbc1a32600872d27",
   "outputs": [
    {
     "data": {
      "text/plain": [
       "                 Country  InvoiceNo\n",
       "0              Australia       1259\n",
       "1                Austria        401\n",
       "2                Bahrain         19\n",
       "3                Belgium       2069\n",
       "4                 Brazil         32\n",
       "5                 Canada        151\n",
       "6        Channel Islands        758\n",
       "7                 Cyprus        622\n",
       "8         Czech Republic         30\n",
       "9                Denmark        389\n",
       "10                  EIRE       8196\n",
       "11    European Community         61\n",
       "12               Finland        695\n",
       "13                France       8557\n",
       "14               Germany       9495\n",
       "15                Greece        146\n",
       "16             Hong Kong        288\n",
       "17               Iceland        182\n",
       "18                Israel        297\n",
       "19                 Italy        803\n",
       "20                 Japan        358\n",
       "21               Lebanon         45\n",
       "22             Lithuania         35\n",
       "23                 Malta        127\n",
       "24           Netherlands       2371\n",
       "25                Norway       1086\n",
       "26                Poland        341\n",
       "27              Portugal       1519\n",
       "28                   RSA         58\n",
       "29          Saudi Arabia         10\n",
       "30             Singapore        229\n",
       "31                 Spain       2533\n",
       "32                Sweden        462\n",
       "33           Switzerland       2002\n",
       "34                   USA        291\n",
       "35  United Arab Emirates         68\n",
       "36        United Kingdom     495478\n",
       "37           Unspecified        446"
      ],
      "text/html": [
       "<div>\n",
       "<style scoped>\n",
       "    .dataframe tbody tr th:only-of-type {\n",
       "        vertical-align: middle;\n",
       "    }\n",
       "\n",
       "    .dataframe tbody tr th {\n",
       "        vertical-align: top;\n",
       "    }\n",
       "\n",
       "    .dataframe thead th {\n",
       "        text-align: right;\n",
       "    }\n",
       "</style>\n",
       "<table border=\"1\" class=\"dataframe\">\n",
       "  <thead>\n",
       "    <tr style=\"text-align: right;\">\n",
       "      <th></th>\n",
       "      <th>Country</th>\n",
       "      <th>InvoiceNo</th>\n",
       "    </tr>\n",
       "  </thead>\n",
       "  <tbody>\n",
       "    <tr>\n",
       "      <th>0</th>\n",
       "      <td>Australia</td>\n",
       "      <td>1259</td>\n",
       "    </tr>\n",
       "    <tr>\n",
       "      <th>1</th>\n",
       "      <td>Austria</td>\n",
       "      <td>401</td>\n",
       "    </tr>\n",
       "    <tr>\n",
       "      <th>2</th>\n",
       "      <td>Bahrain</td>\n",
       "      <td>19</td>\n",
       "    </tr>\n",
       "    <tr>\n",
       "      <th>3</th>\n",
       "      <td>Belgium</td>\n",
       "      <td>2069</td>\n",
       "    </tr>\n",
       "    <tr>\n",
       "      <th>4</th>\n",
       "      <td>Brazil</td>\n",
       "      <td>32</td>\n",
       "    </tr>\n",
       "    <tr>\n",
       "      <th>5</th>\n",
       "      <td>Canada</td>\n",
       "      <td>151</td>\n",
       "    </tr>\n",
       "    <tr>\n",
       "      <th>6</th>\n",
       "      <td>Channel Islands</td>\n",
       "      <td>758</td>\n",
       "    </tr>\n",
       "    <tr>\n",
       "      <th>7</th>\n",
       "      <td>Cyprus</td>\n",
       "      <td>622</td>\n",
       "    </tr>\n",
       "    <tr>\n",
       "      <th>8</th>\n",
       "      <td>Czech Republic</td>\n",
       "      <td>30</td>\n",
       "    </tr>\n",
       "    <tr>\n",
       "      <th>9</th>\n",
       "      <td>Denmark</td>\n",
       "      <td>389</td>\n",
       "    </tr>\n",
       "    <tr>\n",
       "      <th>10</th>\n",
       "      <td>EIRE</td>\n",
       "      <td>8196</td>\n",
       "    </tr>\n",
       "    <tr>\n",
       "      <th>11</th>\n",
       "      <td>European Community</td>\n",
       "      <td>61</td>\n",
       "    </tr>\n",
       "    <tr>\n",
       "      <th>12</th>\n",
       "      <td>Finland</td>\n",
       "      <td>695</td>\n",
       "    </tr>\n",
       "    <tr>\n",
       "      <th>13</th>\n",
       "      <td>France</td>\n",
       "      <td>8557</td>\n",
       "    </tr>\n",
       "    <tr>\n",
       "      <th>14</th>\n",
       "      <td>Germany</td>\n",
       "      <td>9495</td>\n",
       "    </tr>\n",
       "    <tr>\n",
       "      <th>15</th>\n",
       "      <td>Greece</td>\n",
       "      <td>146</td>\n",
       "    </tr>\n",
       "    <tr>\n",
       "      <th>16</th>\n",
       "      <td>Hong Kong</td>\n",
       "      <td>288</td>\n",
       "    </tr>\n",
       "    <tr>\n",
       "      <th>17</th>\n",
       "      <td>Iceland</td>\n",
       "      <td>182</td>\n",
       "    </tr>\n",
       "    <tr>\n",
       "      <th>18</th>\n",
       "      <td>Israel</td>\n",
       "      <td>297</td>\n",
       "    </tr>\n",
       "    <tr>\n",
       "      <th>19</th>\n",
       "      <td>Italy</td>\n",
       "      <td>803</td>\n",
       "    </tr>\n",
       "    <tr>\n",
       "      <th>20</th>\n",
       "      <td>Japan</td>\n",
       "      <td>358</td>\n",
       "    </tr>\n",
       "    <tr>\n",
       "      <th>21</th>\n",
       "      <td>Lebanon</td>\n",
       "      <td>45</td>\n",
       "    </tr>\n",
       "    <tr>\n",
       "      <th>22</th>\n",
       "      <td>Lithuania</td>\n",
       "      <td>35</td>\n",
       "    </tr>\n",
       "    <tr>\n",
       "      <th>23</th>\n",
       "      <td>Malta</td>\n",
       "      <td>127</td>\n",
       "    </tr>\n",
       "    <tr>\n",
       "      <th>24</th>\n",
       "      <td>Netherlands</td>\n",
       "      <td>2371</td>\n",
       "    </tr>\n",
       "    <tr>\n",
       "      <th>25</th>\n",
       "      <td>Norway</td>\n",
       "      <td>1086</td>\n",
       "    </tr>\n",
       "    <tr>\n",
       "      <th>26</th>\n",
       "      <td>Poland</td>\n",
       "      <td>341</td>\n",
       "    </tr>\n",
       "    <tr>\n",
       "      <th>27</th>\n",
       "      <td>Portugal</td>\n",
       "      <td>1519</td>\n",
       "    </tr>\n",
       "    <tr>\n",
       "      <th>28</th>\n",
       "      <td>RSA</td>\n",
       "      <td>58</td>\n",
       "    </tr>\n",
       "    <tr>\n",
       "      <th>29</th>\n",
       "      <td>Saudi Arabia</td>\n",
       "      <td>10</td>\n",
       "    </tr>\n",
       "    <tr>\n",
       "      <th>30</th>\n",
       "      <td>Singapore</td>\n",
       "      <td>229</td>\n",
       "    </tr>\n",
       "    <tr>\n",
       "      <th>31</th>\n",
       "      <td>Spain</td>\n",
       "      <td>2533</td>\n",
       "    </tr>\n",
       "    <tr>\n",
       "      <th>32</th>\n",
       "      <td>Sweden</td>\n",
       "      <td>462</td>\n",
       "    </tr>\n",
       "    <tr>\n",
       "      <th>33</th>\n",
       "      <td>Switzerland</td>\n",
       "      <td>2002</td>\n",
       "    </tr>\n",
       "    <tr>\n",
       "      <th>34</th>\n",
       "      <td>USA</td>\n",
       "      <td>291</td>\n",
       "    </tr>\n",
       "    <tr>\n",
       "      <th>35</th>\n",
       "      <td>United Arab Emirates</td>\n",
       "      <td>68</td>\n",
       "    </tr>\n",
       "    <tr>\n",
       "      <th>36</th>\n",
       "      <td>United Kingdom</td>\n",
       "      <td>495478</td>\n",
       "    </tr>\n",
       "    <tr>\n",
       "      <th>37</th>\n",
       "      <td>Unspecified</td>\n",
       "      <td>446</td>\n",
       "    </tr>\n",
       "  </tbody>\n",
       "</table>\n",
       "</div>"
      ]
     },
     "execution_count": 31,
     "metadata": {},
     "output_type": "execute_result"
    }
   ],
   "execution_count": 31
  },
  {
   "metadata": {},
   "cell_type": "markdown",
   "source": "2. Можно вызывать функцию-агрерат непосредственно на **колонке после группировки**. Тогда результат - **Series** (а-ля колонка в pandas)\n",
   "id": "44c31fba082b9c27"
  },
  {
   "metadata": {
    "ExecuteTime": {
     "end_time": "2025-04-14T13:48:56.838696Z",
     "start_time": "2025-04-14T13:48:20.988446Z"
    }
   },
   "cell_type": "code",
   "source": "data.groupby('Country', as_index = False).InvoiceNo.sum()",
   "id": "c2b8c43e12faa5e1",
   "outputs": [
    {
     "data": {
      "text/plain": [
       "                 Country                                          InvoiceNo\n",
       "0              Australia  5363895363895363895363895363895363895363895363...\n",
       "1                Austria  C538971539330539330539330539330539330539330539...\n",
       "2                Bahrain  539500C540155552449552449552449552449552449552...\n",
       "3                Belgium  5370265370265370265370265370265370265370265370...\n",
       "4                 Brazil  5502015502015502015502015502015502015502015502...\n",
       "5                 Canada  5465335465335465335465335465335465335465335465...\n",
       "6        Channel Islands  5380025380025380025380025380025380025380025380...\n",
       "7                 Cyprus  5388265388265388265388265388265388265388265388...\n",
       "8         Czech Republic  5450725450725450725450725450725450725450725450...\n",
       "9                Denmark  5380035380035380035380035380035380035380035380...\n",
       "10                  EIRE  5365405365405365405365405365405365405365405365...\n",
       "11    European Community  5510135510135510135510135510135510135510135510...\n",
       "12               Finland  5393185393185393185393185393185393185393185393...\n",
       "13                France  5363705363705363705363705363705363705363705363...\n",
       "14               Germany  5365275365275365275365275365275365275365275365...\n",
       "15                Greece  5419325419325419325419325419325419325419325419...\n",
       "16             Hong Kong  5419755419755419755419755419755419755419755419...\n",
       "17               Iceland  5376265376265376265376265376265376265376265376...\n",
       "18                Israel  C539037C53903754055654055654055654055654055654...\n",
       "19                 Italy  5370225370225370225370225370225370225370225370...\n",
       "20                 Japan  5372185372185372185372185372185372185372185372...\n",
       "21               Lebanon  5422765422765422765422765422765422765422765422...\n",
       "22             Lithuania  5370815370815370815370815370815370815370815370...\n",
       "23                 Malta  5559315559315559315559315559315559315559315559...\n",
       "24           Netherlands  5364035364035394915394915394915394915394915394...\n",
       "25                Norway  5365325365325365325365325365325365325365325365...\n",
       "26                Poland  5369715369715369715369715369715369715369715369...\n",
       "27              Portugal  5369905369905369905369905369905369905369905372...\n",
       "28                   RSA  5710355710355710355710355710355710355710355710...\n",
       "29          Saudi Arabia  5448385448385448385448385448385448385448385448...\n",
       "30             Singapore  5421025421025421025421025421025421025421025421...\n",
       "31                 Spain  5369445369445369445369445369445380955380955380...\n",
       "32                Sweden  C538847538848539338539338539338539338539338539...\n",
       "33           Switzerland  5368585368585368585368585368585368585394885394...\n",
       "34                   USA  5506445506445506445506445506445506445506445506...\n",
       "35  United Arab Emirates  5439115439115439115439115439115439115439115439...\n",
       "36        United Kingdom  5363655363655363655363655363655363655363655363...\n",
       "37           Unspecified  5496875496875496875496875496875496875496875496..."
      ],
      "text/html": [
       "<div>\n",
       "<style scoped>\n",
       "    .dataframe tbody tr th:only-of-type {\n",
       "        vertical-align: middle;\n",
       "    }\n",
       "\n",
       "    .dataframe tbody tr th {\n",
       "        vertical-align: top;\n",
       "    }\n",
       "\n",
       "    .dataframe thead th {\n",
       "        text-align: right;\n",
       "    }\n",
       "</style>\n",
       "<table border=\"1\" class=\"dataframe\">\n",
       "  <thead>\n",
       "    <tr style=\"text-align: right;\">\n",
       "      <th></th>\n",
       "      <th>Country</th>\n",
       "      <th>InvoiceNo</th>\n",
       "    </tr>\n",
       "  </thead>\n",
       "  <tbody>\n",
       "    <tr>\n",
       "      <th>0</th>\n",
       "      <td>Australia</td>\n",
       "      <td>5363895363895363895363895363895363895363895363...</td>\n",
       "    </tr>\n",
       "    <tr>\n",
       "      <th>1</th>\n",
       "      <td>Austria</td>\n",
       "      <td>C538971539330539330539330539330539330539330539...</td>\n",
       "    </tr>\n",
       "    <tr>\n",
       "      <th>2</th>\n",
       "      <td>Bahrain</td>\n",
       "      <td>539500C540155552449552449552449552449552449552...</td>\n",
       "    </tr>\n",
       "    <tr>\n",
       "      <th>3</th>\n",
       "      <td>Belgium</td>\n",
       "      <td>5370265370265370265370265370265370265370265370...</td>\n",
       "    </tr>\n",
       "    <tr>\n",
       "      <th>4</th>\n",
       "      <td>Brazil</td>\n",
       "      <td>5502015502015502015502015502015502015502015502...</td>\n",
       "    </tr>\n",
       "    <tr>\n",
       "      <th>5</th>\n",
       "      <td>Canada</td>\n",
       "      <td>5465335465335465335465335465335465335465335465...</td>\n",
       "    </tr>\n",
       "    <tr>\n",
       "      <th>6</th>\n",
       "      <td>Channel Islands</td>\n",
       "      <td>5380025380025380025380025380025380025380025380...</td>\n",
       "    </tr>\n",
       "    <tr>\n",
       "      <th>7</th>\n",
       "      <td>Cyprus</td>\n",
       "      <td>5388265388265388265388265388265388265388265388...</td>\n",
       "    </tr>\n",
       "    <tr>\n",
       "      <th>8</th>\n",
       "      <td>Czech Republic</td>\n",
       "      <td>5450725450725450725450725450725450725450725450...</td>\n",
       "    </tr>\n",
       "    <tr>\n",
       "      <th>9</th>\n",
       "      <td>Denmark</td>\n",
       "      <td>5380035380035380035380035380035380035380035380...</td>\n",
       "    </tr>\n",
       "    <tr>\n",
       "      <th>10</th>\n",
       "      <td>EIRE</td>\n",
       "      <td>5365405365405365405365405365405365405365405365...</td>\n",
       "    </tr>\n",
       "    <tr>\n",
       "      <th>11</th>\n",
       "      <td>European Community</td>\n",
       "      <td>5510135510135510135510135510135510135510135510...</td>\n",
       "    </tr>\n",
       "    <tr>\n",
       "      <th>12</th>\n",
       "      <td>Finland</td>\n",
       "      <td>5393185393185393185393185393185393185393185393...</td>\n",
       "    </tr>\n",
       "    <tr>\n",
       "      <th>13</th>\n",
       "      <td>France</td>\n",
       "      <td>5363705363705363705363705363705363705363705363...</td>\n",
       "    </tr>\n",
       "    <tr>\n",
       "      <th>14</th>\n",
       "      <td>Germany</td>\n",
       "      <td>5365275365275365275365275365275365275365275365...</td>\n",
       "    </tr>\n",
       "    <tr>\n",
       "      <th>15</th>\n",
       "      <td>Greece</td>\n",
       "      <td>5419325419325419325419325419325419325419325419...</td>\n",
       "    </tr>\n",
       "    <tr>\n",
       "      <th>16</th>\n",
       "      <td>Hong Kong</td>\n",
       "      <td>5419755419755419755419755419755419755419755419...</td>\n",
       "    </tr>\n",
       "    <tr>\n",
       "      <th>17</th>\n",
       "      <td>Iceland</td>\n",
       "      <td>5376265376265376265376265376265376265376265376...</td>\n",
       "    </tr>\n",
       "    <tr>\n",
       "      <th>18</th>\n",
       "      <td>Israel</td>\n",
       "      <td>C539037C53903754055654055654055654055654055654...</td>\n",
       "    </tr>\n",
       "    <tr>\n",
       "      <th>19</th>\n",
       "      <td>Italy</td>\n",
       "      <td>5370225370225370225370225370225370225370225370...</td>\n",
       "    </tr>\n",
       "    <tr>\n",
       "      <th>20</th>\n",
       "      <td>Japan</td>\n",
       "      <td>5372185372185372185372185372185372185372185372...</td>\n",
       "    </tr>\n",
       "    <tr>\n",
       "      <th>21</th>\n",
       "      <td>Lebanon</td>\n",
       "      <td>5422765422765422765422765422765422765422765422...</td>\n",
       "    </tr>\n",
       "    <tr>\n",
       "      <th>22</th>\n",
       "      <td>Lithuania</td>\n",
       "      <td>5370815370815370815370815370815370815370815370...</td>\n",
       "    </tr>\n",
       "    <tr>\n",
       "      <th>23</th>\n",
       "      <td>Malta</td>\n",
       "      <td>5559315559315559315559315559315559315559315559...</td>\n",
       "    </tr>\n",
       "    <tr>\n",
       "      <th>24</th>\n",
       "      <td>Netherlands</td>\n",
       "      <td>5364035364035394915394915394915394915394915394...</td>\n",
       "    </tr>\n",
       "    <tr>\n",
       "      <th>25</th>\n",
       "      <td>Norway</td>\n",
       "      <td>5365325365325365325365325365325365325365325365...</td>\n",
       "    </tr>\n",
       "    <tr>\n",
       "      <th>26</th>\n",
       "      <td>Poland</td>\n",
       "      <td>5369715369715369715369715369715369715369715369...</td>\n",
       "    </tr>\n",
       "    <tr>\n",
       "      <th>27</th>\n",
       "      <td>Portugal</td>\n",
       "      <td>5369905369905369905369905369905369905369905372...</td>\n",
       "    </tr>\n",
       "    <tr>\n",
       "      <th>28</th>\n",
       "      <td>RSA</td>\n",
       "      <td>5710355710355710355710355710355710355710355710...</td>\n",
       "    </tr>\n",
       "    <tr>\n",
       "      <th>29</th>\n",
       "      <td>Saudi Arabia</td>\n",
       "      <td>5448385448385448385448385448385448385448385448...</td>\n",
       "    </tr>\n",
       "    <tr>\n",
       "      <th>30</th>\n",
       "      <td>Singapore</td>\n",
       "      <td>5421025421025421025421025421025421025421025421...</td>\n",
       "    </tr>\n",
       "    <tr>\n",
       "      <th>31</th>\n",
       "      <td>Spain</td>\n",
       "      <td>5369445369445369445369445369445380955380955380...</td>\n",
       "    </tr>\n",
       "    <tr>\n",
       "      <th>32</th>\n",
       "      <td>Sweden</td>\n",
       "      <td>C538847538848539338539338539338539338539338539...</td>\n",
       "    </tr>\n",
       "    <tr>\n",
       "      <th>33</th>\n",
       "      <td>Switzerland</td>\n",
       "      <td>5368585368585368585368585368585368585394885394...</td>\n",
       "    </tr>\n",
       "    <tr>\n",
       "      <th>34</th>\n",
       "      <td>USA</td>\n",
       "      <td>5506445506445506445506445506445506445506445506...</td>\n",
       "    </tr>\n",
       "    <tr>\n",
       "      <th>35</th>\n",
       "      <td>United Arab Emirates</td>\n",
       "      <td>5439115439115439115439115439115439115439115439...</td>\n",
       "    </tr>\n",
       "    <tr>\n",
       "      <th>36</th>\n",
       "      <td>United Kingdom</td>\n",
       "      <td>5363655363655363655363655363655363655363655363...</td>\n",
       "    </tr>\n",
       "    <tr>\n",
       "      <th>37</th>\n",
       "      <td>Unspecified</td>\n",
       "      <td>5496875496875496875496875496875496875496875496...</td>\n",
       "    </tr>\n",
       "  </tbody>\n",
       "</table>\n",
       "</div>"
      ]
     },
     "execution_count": 32,
     "metadata": {},
     "output_type": "execute_result"
    }
   ],
   "execution_count": 32
  },
  {
   "metadata": {},
   "cell_type": "markdown",
   "source": [
    "####  Поиск минимального и максимального значения\n",
    "- df.column.**idxmax()** - индекс максимального значения\n",
    "- df.column.**idxmin()** - индекс минимального значения\n",
    "- df.column.**min()** - минимальное значение\n",
    "- df.column.**max()** - максимальное значение"
   ],
   "id": "1dda32981f252a59"
  },
  {
   "metadata": {
    "ExecuteTime": {
     "end_time": "2025-04-14T13:55:06.887940Z",
     "start_time": "2025-04-14T13:55:06.883428Z"
    }
   },
   "cell_type": "code",
   "source": "data.Quantity.max()",
   "id": "3217ab8db9cceaff",
   "outputs": [
    {
     "data": {
      "text/plain": [
       "80995"
      ]
     },
     "execution_count": 33,
     "metadata": {},
     "output_type": "execute_result"
    }
   ],
   "execution_count": 33
  },
  {
   "metadata": {
    "ExecuteTime": {
     "end_time": "2025-04-14T13:55:15.017882Z",
     "start_time": "2025-04-14T13:55:15.011991Z"
    }
   },
   "cell_type": "code",
   "source": "data.Quantity.idxmax()",
   "id": "91ed599f85690533",
   "outputs": [
    {
     "data": {
      "text/plain": [
       "540421"
      ]
     },
     "execution_count": 34,
     "metadata": {},
     "output_type": "execute_result"
    }
   ],
   "execution_count": 34
  },
  {
   "metadata": {
    "ExecuteTime": {
     "end_time": "2025-04-14T13:55:22.817938Z",
     "start_time": "2025-04-14T13:55:22.813277Z"
    }
   },
   "cell_type": "code",
   "source": "data.index",
   "id": "9d5e2bf8a733b83d",
   "outputs": [
    {
     "data": {
      "text/plain": [
       "RangeIndex(start=0, stop=541909, step=1)"
      ]
     },
     "execution_count": 35,
     "metadata": {},
     "output_type": "execute_result"
    }
   ],
   "execution_count": 35
  },
  {
   "metadata": {},
   "cell_type": "code",
   "outputs": [],
   "execution_count": null,
   "source": "",
   "id": "8437fae453b2805"
  },
  {
   "metadata": {},
   "cell_type": "markdown",
   "source": "#### Фильтрация\n",
   "id": "ea0bcd2d96583472"
  }
 ],
 "metadata": {
  "kernelspec": {
   "name": "python3",
   "language": "python",
   "display_name": "Python 3 (ipykernel)"
  }
 },
 "nbformat": 5,
 "nbformat_minor": 9
}
