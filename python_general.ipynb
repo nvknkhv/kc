{
 "cells": [
  {
   "cell_type": "code",
   "id": "initial_id",
   "metadata": {
    "collapsed": true,
    "ExecuteTime": {
     "end_time": "2025-04-14T11:31:38.905321Z",
     "start_time": "2025-04-14T11:31:38.902333Z"
    }
   },
   "source": [
    "user_ages = [10, 18, 21, 35, 42, 27, 12, 16]\n",
    "user_ages\n",
    "\n",
    "for i in user_ages:\n",
    "    if i > 18:\n",
    "        print(i)"
   ],
   "outputs": [
    {
     "name": "stdout",
     "output_type": "stream",
     "text": [
      "21\n",
      "35\n",
      "42\n",
      "27\n"
     ]
    }
   ],
   "execution_count": 2
  },
  {
   "metadata": {},
   "cell_type": "markdown",
   "source": "",
   "id": "e98509ca74bdfd66"
  },
  {
   "metadata": {
    "ExecuteTime": {
     "end_time": "2025-04-14T11:32:33.671375Z",
     "start_time": "2025-04-14T11:32:33.665924Z"
    }
   },
   "cell_type": "code",
   "source": [
    "worker = ['N', 'K', 350000, 3]\n",
    "\n",
    "years = worker[3]\n",
    "if years < 2:\n",
    "    position = 'junior'\n",
    "elif years >=2 and years <= 5:\n",
    "     position = 'middle'\n",
    "else:\n",
    "    position = 'senior'\n",
    "\n",
    "status = '{user_name} {user_family} is {position}'.format(user_name=worker[0], user_family=worker[1], position=position)\n",
    "print(status)"
   ],
   "id": "44728a71fac0b872",
   "outputs": [
    {
     "name": "stdout",
     "output_type": "stream",
     "text": [
      "N K is middle\n"
     ]
    }
   ],
   "execution_count": 4
  },
  {
   "metadata": {
    "ExecuteTime": {
     "end_time": "2025-04-14T11:32:55.726142Z",
     "start_time": "2025-04-14T11:32:55.721720Z"
    }
   },
   "cell_type": "code",
   "source": [
    "# В списке values содержатся числовые значения. Создайте список tens и добавьте в него все числа из values, которые делятся на 10 нацело.\n",
    "values = [12, 134, 10, 47, 100, 20, 50, 160, 210]\n",
    "tens = [i for i in values if i % 10 == 0]\n",
    "print(tens)"
   ],
   "id": "c7156476c681152f",
   "outputs": [
    {
     "name": "stdout",
     "output_type": "stream",
     "text": [
      "[10, 100, 20, 50, 160, 210]\n"
     ]
    }
   ],
   "execution_count": 5
  },
  {
   "metadata": {
    "ExecuteTime": {
     "end_time": "2025-04-14T11:33:05.548500Z",
     "start_time": "2025-04-14T11:33:05.544117Z"
    }
   },
   "cell_type": "code",
   "source": [
    "workers = [['Ivan', 'Ivanov', 100000, 1], ['Petr', 'Petrov', 150000, 2], ['Sidor', 'Sidorov', 200000, 10]]\n",
    "\n",
    "def positionFromYears(years):\n",
    "    if years < 2:\n",
    "        position = 'junior'\n",
    "    elif years >=2 and years <= 5:\n",
    "        position = 'middle'\n",
    "    else:\n",
    "        position = 'senior'\n",
    "    return position\n",
    "\n",
    "for i in workers:\n",
    "    [name, family, salary, years] = i\n",
    "    position = positionFromYears(years)\n",
    "    print('{name} {family} is {position}'.format(name=name, family=family, position=position))\n",
    "    #print(f'{name} {family} is {position}')"
   ],
   "id": "5f7a5d2d78706d54",
   "outputs": [
    {
     "name": "stdout",
     "output_type": "stream",
     "text": [
      "Ivan Ivanov is junior\n",
      "Petr Petrov is middle\n",
      "Sidor Sidorov is senior\n"
     ]
    }
   ],
   "execution_count": 6
  },
  {
   "metadata": {
    "ExecuteTime": {
     "end_time": "2025-04-14T11:33:42.868431Z",
     "start_time": "2025-04-14T11:33:42.862220Z"
    }
   },
   "cell_type": "code",
   "source": [
    "# Поместите в список lst числа от 0 (n = 0) до 10 включительно (N = 10) c шагом 2 (dn = 2)\n",
    "n=0\n",
    "N = 10\n",
    "dn = 2\n",
    "\n",
    "lst = [i for i in range(n, N+1) if i % dn == 0]\n",
    "lst"
   ],
   "id": "4293a81b7d7357cc",
   "outputs": [
    {
     "data": {
      "text/plain": [
       "[0, 2, 4, 6, 8, 10]"
      ]
     },
     "execution_count": 8,
     "metadata": {},
     "output_type": "execute_result"
    }
   ],
   "execution_count": 8
  }
 ],
 "metadata": {
  "kernelspec": {
   "display_name": "Python 3",
   "language": "python",
   "name": "python3"
  },
  "language_info": {
   "codemirror_mode": {
    "name": "ipython",
    "version": 2
   },
   "file_extension": ".py",
   "mimetype": "text/x-python",
   "name": "python",
   "nbconvert_exporter": "python",
   "pygments_lexer": "ipython2",
   "version": "2.7.6"
  }
 },
 "nbformat": 4,
 "nbformat_minor": 5
}
